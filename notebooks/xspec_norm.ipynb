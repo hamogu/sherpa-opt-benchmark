{
 "cells": [
  {
   "cell_type": "markdown",
   "metadata": {},
   "source": [
    "# Proof or concept for speed-up by treating the norm of an XSPEC model specially\n",
    "\n"
   ]
  },
  {
   "cell_type": "code",
   "execution_count": 1,
   "metadata": {},
   "outputs": [],
   "source": [
    "from sherpa.astro import ui\n",
    "from sherpa.astro.xspec import XSapec, XSphabs\n",
    "from sherpa.astro import xspec\n",
    "from io import StringIO\n",
    "import time\n",
    "import matplotlib.pyplot as plt\n",
    "import numpy as np\n",
    "from astropy.table import Table\n",
    "from astropy.stats import sigma_clipped_stats"
   ]
  },
  {
   "cell_type": "code",
   "execution_count": 2,
   "metadata": {},
   "outputs": [
    {
     "data": {
      "text/plain": [
       "'12.14.0k'"
      ]
     },
     "execution_count": 2,
     "metadata": {},
     "output_type": "execute_result"
    }
   ],
   "source": [
    "from sherpa.astro import xspec\n",
    "xspec.get_xsversion()"
   ]
  },
  {
   "cell_type": "markdown",
   "metadata": {},
   "source": [
    "## XSPEC internal cache"
   ]
  },
  {
   "cell_type": "code",
   "execution_count": 3,
   "metadata": {},
   "outputs": [
    {
     "name": "stderr",
     "output_type": "stream",
     "text": [
      "/Users/guenther/code/sherpa/sherpa/astro/xspec/__init__.py:1465: FutureWarning: calc() requires pars,lo,hi arguments, sent 2 arguments\n",
      "  warnings.warn(emsg, FutureWarning)\n"
     ]
    },
    {
     "name": "stdout",
     "output_type": "stream",
     "text": [
      "Reading APEC data from 3.0.9\n",
      "\n",
      "Time taken: 0.27 s\n",
      "Time taken: 0.02 s\n",
      "Time taken: 0.02 s\n",
      "Time taken: 0.02 s\n",
      "Time taken: 0.02 s\n"
     ]
    }
   ],
   "source": [
    "en_bins = np.arange(0.2, 10., 0.01)\n",
    "for i in range(5):\n",
    "    apecmodel = XSapec()\n",
    "    start_time = time.perf_counter()\n",
    "    flux = apecmodel(xlo=en_bins[:-1], xhi=en_bins[1:])\n",
    "    end_time = time.perf_counter()\n",
    "    print(f\"Time taken: {end_time-start_time:.2f} s\")"
   ]
  },
  {
   "cell_type": "markdown",
   "metadata": {},
   "source": [
    "As we can see, just running a model with the same input parameters several times is slow the first time and then much faster after that, even though we create a new model object every time. That means that the caching is internal to XSPEC itself, as the Sherpa cache is initialized every time we create a new model object."
   ]
  },
  {
   "cell_type": "code",
   "execution_count": 4,
   "metadata": {},
   "outputs": [
    {
     "name": "stdout",
     "output_type": "stream",
     "text": [
      "Time taken: 0.08 s\n",
      "Time taken: 0.01 s\n",
      "Time taken: 0.01 s\n",
      "Time taken: 0.01 s\n",
      "Time taken: 0.01 s\n"
     ]
    }
   ],
   "source": [
    "for i in range(5):\n",
    "    apecmodel = XSapec()\n",
    "    apecmodel.kT = 3.45\n",
    "    start_time = time.perf_counter()\n",
    "    flux = apecmodel(xlo=en_bins[:-1], xhi=en_bins[1:])\n",
    "    end_time = time.perf_counter()\n",
    "    print(f\"Time taken: {end_time - start_time:.2f} s\")\n"
   ]
  },
  {
   "cell_type": "markdown",
   "metadata": {},
   "source": [
    "If we change the model parameters, then the cache needs to be filled again, so the first call takes longer than the latter ones."
   ]
  },
  {
   "cell_type": "code",
   "execution_count": 5,
   "metadata": {},
   "outputs": [
    {
     "name": "stdout",
     "output_type": "stream",
     "text": [
      "Time taken: 0.02 s\n"
     ]
    }
   ],
   "source": [
    "apecmodel = XSapec()\n",
    "start_time = time.perf_counter()\n",
    "flux = apecmodel(xlo=en_bins[:-1], xhi=en_bins[1:])\n",
    "end_time = time.perf_counter()\n",
    "print(f\"Time taken: {end_time - start_time:.2f} s\")"
   ]
  },
  {
   "cell_type": "code",
   "execution_count": 6,
   "metadata": {},
   "outputs": [
    {
     "name": "stdout",
     "output_type": "stream",
     "text": [
      "Time taken: 0.02 s\n",
      "Time taken: 0.02 s\n",
      "Time taken: 0.02 s\n",
      "Time taken: 0.07 s\n",
      "Time taken: 0.02 s\n"
     ]
    }
   ],
   "source": [
    "for i in range(5):\n",
    "    apecmodel = XSapec()\n",
    "    apecmodel.norm = 1/(i + 1)\n",
    "    start_time = time.perf_counter()\n",
    "    flux = apecmodel(xlo=en_bins[:-1], xhi=en_bins[1:])\n",
    "    end_time = time.perf_counter()\n",
    "    print(f\"Time taken: {end_time - start_time:.2f} s\")\n"
   ]
  },
  {
   "cell_type": "markdown",
   "metadata": {},
   "source": [
    "In this experiment, we see that there is only a very small change in run-time for setting a new norm. Although the norm is different in every call, the run-time is almost the same. Curiously, it's not exactly the same, but it also is not as long in the case when physical parameters like the temperature are changed.\n",
    "\n",
    "I don't know how many values XSPEC keeps in its internal cache (and I don't want to try that out here), but if we go back to a previously used parameter value, the result is still fast. I did a cursory glance that the XSPEC docs and can't find anything there, but it's possible that this is already implemented as part of APEC, which XSPEC just ingests.\n",
    "\n",
    "### Considering the internal cache for the following benchmarks\n",
    "\n",
    "That leads to two conclusions:\n",
    "\n",
    "- When we benchmark run-times using similar datasets, the second run will always be faster unless we totally nuke XSPEC and restart the notebook.\n",
    "- If we want to be even faster, we need to find a way to call XSPEC less overall. Sherpa's caching on top pf XSPEC's own caching might have a very limited effect for APEC models.\n"
   ]
  },
  {
   "cell_type": "markdown",
   "metadata": {},
   "source": [
    "## Fits with real data"
   ]
  },
  {
   "cell_type": "code",
   "execution_count": 3,
   "metadata": {},
   "outputs": [
    {
     "name": "stdout",
     "output_type": "stream",
     "text": [
      "read ARF file ../curated-test-data/Chandra/ACIS/acisf04487_001N022_r0009_arf3.fits\n"
     ]
    },
    {
     "name": "stdout",
     "output_type": "stream",
     "text": [
      "read RMF file ../curated-test-data/Chandra/ACIS/acisf04487_001N022_r0009_rmf3.fits\n",
      "read background file ../curated-test-data/Chandra/ACIS/acisf04487_001N023_r0009_pha3.fits\n",
      "read ARF file ../curated-test-data/Chandra/ACIS/acisf04487_001N022_r0009_arf3.fits\n",
      "read RMF file ../curated-test-data/Chandra/ACIS/acisf04487_001N022_r0009_rmf3.fits\n",
      "read background file ../curated-test-data/Chandra/ACIS/acisf04487_001N023_r0009_pha3.fits\n"
     ]
    }
   ],
   "source": [
    "ui.load_pha(\n",
    "    1, \"../curated-test-data/Chandra/ACIS/acisf04487_001N023_r0009_pha3.fits.gz\"\n",
    ")\n",
    "ui.load_pha(\n",
    "    2, \"../curated-test-data/Chandra/ACIS/acisf04487_001N023_r0009_pha3.fits.gz\"\n",
    ")"
   ]
  },
  {
   "cell_type": "code",
   "execution_count": 4,
   "metadata": {},
   "outputs": [
    {
     "name": "stdout",
     "output_type": "stream",
     "text": [
      "dataset 1: 0.0073:14.9504 Energy (keV) (unchanged)\n",
      "dataset 2: 0.0073:14.9504 Energy (keV) (unchanged)\n",
      "dataset 1: 0.0073:14.9504 -> 0.5256:14.9504 Energy (keV)\n",
      "dataset 2: 0.0073:14.9504 -> 0.5256:14.9504 Energy (keV)\n",
      "dataset 1: 0.5256:14.9504 -> 0.5256:6.4678 Energy (keV)\n",
      "dataset 2: 0.5256:14.9504 -> 0.5256:6.4678 Energy (keV)\n"
     ]
    }
   ],
   "source": [
    "ui.group_counts(1, 5)\n",
    "ui.group_counts(2, 5)\n",
    "ui.ignore(None, 0.3)\n",
    "ui.ignore(7, None)\n"
   ]
  },
  {
   "cell_type": "markdown",
   "metadata": {},
   "source": [
    "### Setup of the first model, using standard XSPEC models\n",
    "\n",
    "We are fitting two apec models with different temperatures and different absorption components. We set the starting values of the parameters to reasonable number such that the fit converges after a reasonable number of iterations."
   ]
  },
  {
   "cell_type": "code",
   "execution_count": 5,
   "metadata": {},
   "outputs": [],
   "source": [
    "abs1 = XSphabs(\"abs1\")\n",
    "abs2 = XSphabs(\"abs2\")\n",
    "apec1 = XSapec(\"apec1\")\n",
    "apec2 = XSapec(\"apec2\")\n",
    "model = abs1 * apec1 + abs2 * apec2\n"
   ]
  },
  {
   "cell_type": "code",
   "execution_count": 6,
   "metadata": {},
   "outputs": [],
   "source": [
    "ui.set_source(1, model)\n",
    "\n",
    "abs1.nH = 0.1\n",
    "abs2.nH = 1\n",
    "apec1.kT = 0.5\n",
    "apec2.kT = 5\n",
    "apec1.norm = 1e-2\n",
    "apec2.norm = 1e-2\n",
    "\n"
   ]
  },
  {
   "cell_type": "code",
   "execution_count": 7,
   "metadata": {},
   "outputs": [
    {
     "name": "stdout",
     "output_type": "stream",
     "text": [
      "WARNING: data set 1 has associated backgrounds, but they have not been subtracted, nor have background models been set\n",
      "Reading APEC data from 3.0.9\n",
      "\n",
      "Dataset               = 1\n",
      "Method                = levmar\n",
      "Statistic             = chi2gehrels\n",
      "Initial fit statistic = 1.16757e+08\n",
      "Final fit statistic   = 23.1913 at function evaluation 117\n",
      "Data points           = 66\n",
      "Degrees of freedom    = 60\n",
      "Probability [Q-value] = 0.999995\n",
      "Reduced statistic     = 0.386522\n",
      "Change in statistic   = 1.16757e+08\n",
      "   abs1.nH        0.708404     +/- 0.170232    \n",
      "   apec1.kT       0.211462     +/- 0.0483091   \n",
      "   apec1.norm     0.000324427  +/- 0.000440131 \n",
      "   abs2.nH        2.54979      +/- 0.785303    \n",
      "   apec2.kT       2.12737      +/- 0.613379    \n",
      "   apec2.norm     0.000190664  +/- 7.07233e-05 \n",
      "2.5476826670055743 seconds\n"
     ]
    }
   ],
   "source": [
    "out = StringIO()\n",
    "\n",
    "start_time = time.perf_counter()\n",
    "ui.fit(1, outfile=out)\n",
    "end_time = time.perf_counter()\n",
    "print(end_time - start_time, \"seconds\")\n",
    "txt = out.getvalue()\n"
   ]
  },
  {
   "cell_type": "code",
   "execution_count": 12,
   "metadata": {},
   "outputs": [
    {
     "name": "stdout",
     "output_type": "stream",
     "text": [
      "WARNING: data set 1 has associated backgrounds, but they have not been subtracted, nor have background models been set\n",
      "Dataset               = 1\n",
      "Method                = levmar\n",
      "Statistic             = chi2gehrels\n",
      "Initial fit statistic = 23.1913\n",
      "Final fit statistic   = 23.1913 at function evaluation 8\n",
      "Data points           = 66\n",
      "Degrees of freedom    = 60\n",
      "Probability [Q-value] = 0.999995\n",
      "Reduced statistic     = 0.386522\n",
      "Change in statistic   = 2.35533e-08\n",
      "   abs1.nH        0.708377     +/- 0.170219    \n",
      "   apec1.kT       0.211472     +/- 0.0483013   \n",
      "   apec1.norm     0.000324343  +/- 0.000440291 \n",
      "   abs2.nH        2.54977      +/- 0.785373    \n",
      "   apec2.kT       2.12738      +/- 0.613325    \n",
      "   apec2.norm     0.000190663  +/- 7.07136e-05 \n",
      "0.13990775001002476 seconds\n"
     ]
    }
   ],
   "source": [
    "out = StringIO()\n",
    "\n",
    "start_time = time.perf_counter()\n",
    "ui.fit(1, outfile=out)\n",
    "end_time = time.perf_counter()\n",
    "print(end_time - start_time, \"seconds\")\n",
    "txt = out.getvalue()\n"
   ]
  },
  {
   "cell_type": "code",
   "execution_count": 13,
   "metadata": {},
   "outputs": [
    {
     "name": "stdout",
     "output_type": "stream",
     "text": [
      "WARNING: data set 1 has associated backgrounds, but they have not been subtracted, nor have background models been set\n",
      "Dataset               = 1\n",
      "Method                = levmar\n",
      "Statistic             = chi2gehrels\n",
      "Initial fit statistic = 23.1913\n",
      "Final fit statistic   = 23.1913 at function evaluation 15\n",
      "Data points           = 66\n",
      "Degrees of freedom    = 60\n",
      "Probability [Q-value] = 0.999995\n",
      "Reduced statistic     = 0.386522\n",
      "Change in statistic   = 1.99573e-06\n",
      "   abs1.nH        0.708311     +/- 0.170308    \n",
      "   apec1.kT       0.211481     +/- 0.0483164   \n",
      "   apec1.norm     0.000324206  +/- 0.000440041 \n",
      "   abs2.nH        2.54952      +/- 0.785375    \n",
      "   apec2.kT       2.12751      +/- 0.613428    \n",
      "   apec2.norm     0.000190644  +/- 7.07152e-05 \n",
      " \n",
      "*** Profile stats marshalled to file 'output1.prof'.\n"
     ]
    }
   ],
   "source": [
    "%prun -q -D output1.prof ui.fit(1)\n"
   ]
  },
  {
   "cell_type": "code",
   "execution_count": 8,
   "metadata": {},
   "outputs": [],
   "source": [
    "tab = Table.read(txt, format=\"ascii.commented_header\")"
   ]
  },
  {
   "cell_type": "markdown",
   "metadata": {},
   "source": [
    "### Freeze the norm in the vapec components\n",
    "\n",
    "We use exactly the same model setup, except that we freeze the norm in the vapec components and instead use a Sherpa `Scale1D` model to model the norm. That way, the apec should not be recalculated if just the norm is changed.\n",
    "Of course, the fitter might choose a different order to vary the parameters, but this is the most accurate way we have to compare the performance.\n",
    "\n",
    "We again set the starting values of the parameters to the same values as in the previous model."
   ]
  },
  {
   "cell_type": "code",
   "execution_count": null,
   "metadata": {},
   "outputs": [],
   "source": [
    "from sherpa.models.basic import Scale1D\n",
    "\n",
    "abs21 = XSphabs(\"abs21\")\n",
    "abs22 = XSphabs(\"abs22\")\n",
    "const21 = Scale1D(\"const1\")\n",
    "const22 = Scale1D(\"const2\")\n",
    "const21._use_caching = False\n",
    "const22._use_caching = False\n",
    "apec21 = XSapec(\"apec21\")\n",
    "apec22 = XSapec(\"apec22\")\n",
    "model2 = abs21 * const21 * apec21 + abs22 * const22 * apec22\n"
   ]
  },
  {
   "cell_type": "code",
   "execution_count": 10,
   "metadata": {},
   "outputs": [],
   "source": [
    "ui.set_source(2, model2)\n",
    "\n",
    "abs21.nH = 0.1\n",
    "abs22.nH = 1\n",
    "apec21.kT = 0.5\n",
    "apec22.kT = 5\n",
    "apec21.norm = 1\n",
    "apec22.norm = 1\n",
    "apec21.norm.freeze()\n",
    "apec22.norm.freeze()\n",
    "const21.c0 = 0.01\n",
    "const22.c0 = 0.01\n"
   ]
  },
  {
   "cell_type": "code",
   "execution_count": 11,
   "metadata": {},
   "outputs": [
    {
     "name": "stdout",
     "output_type": "stream",
     "text": [
      "WARNING: data set 2 has associated backgrounds, but they have not been subtracted, nor have background models been set\n",
      "Dataset               = 2\n",
      "Method                = levmar\n",
      "Statistic             = chi2gehrels\n",
      "Initial fit statistic = 1.16757e+08\n",
      "Final fit statistic   = 23.1913 at function evaluation 103\n",
      "Data points           = 66\n",
      "Degrees of freedom    = 60\n",
      "Probability [Q-value] = 0.999995\n",
      "Reduced statistic     = 0.386522\n",
      "Change in statistic   = 1.16757e+08\n",
      "   abs21.nH       0.708365     +/- 0.17028     \n",
      "   const1.c0      0.000324383  +/- 0.000439932 \n",
      "   apec21.kT      0.211461     +/- 0.0483555   \n",
      "   abs22.nH       2.54963      +/- 0.785542    \n",
      "   const2.c0      0.000190653  +/- 7.07243e-05 \n",
      "   apec22.kT      2.12744      +/- 0.613513    \n",
      "0.7318235409911722 seconds\n"
     ]
    }
   ],
   "source": [
    "\n",
    "\n",
    "out = StringIO()\n",
    "\n",
    "start_time2 = time.perf_counter()\n",
    "ui.fit(2, outfile=out)\n",
    "end_time2 = time.perf_counter()\n",
    "print(end_time2 - start_time2, \"seconds\")\n",
    "txt = out.getvalue()\n"
   ]
  },
  {
   "cell_type": "code",
   "execution_count": 18,
   "metadata": {},
   "outputs": [
    {
     "name": "stdout",
     "output_type": "stream",
     "text": [
      "WARNING: data set 2 has associated backgrounds, but they have not been subtracted, nor have background models been set\n",
      "Dataset               = 2\n",
      "Method                = levmar\n",
      "Statistic             = chi2gehrels\n",
      "Initial fit statistic = 23.1913\n",
      "Final fit statistic   = 23.1913 at function evaluation 8\n",
      "Data points           = 66\n",
      "Degrees of freedom    = 60\n",
      "Probability [Q-value] = 0.999995\n",
      "Reduced statistic     = 0.386522\n",
      "Change in statistic   = 3.70588e-07\n",
      "   abs21.nH       0.708289     +/- 0.17023     \n",
      "   const1.c0      0.000324157  +/- 0.000440171 \n",
      "   apec21.kT      0.211485     +/- 0.0482879   \n",
      "   abs22.nH       2.54953      +/- 0.785473    \n",
      "   const2.c0      0.000190645  +/- 7.07167e-05 \n",
      "   apec22.kT      2.1275       +/- 0.613396    \n",
      " \n",
      "*** Profile stats marshalled to file 'output2.prof'.\n"
     ]
    }
   ],
   "source": [
    "%prun -q -D output2.prof ui.fit(2)\n"
   ]
  },
  {
   "cell_type": "code",
   "execution_count": 12,
   "metadata": {},
   "outputs": [],
   "source": [
    "tab2 = Table.read(txt, format=\"ascii.commented_header\")\n"
   ]
  },
  {
   "cell_type": "markdown",
   "metadata": {},
   "source": [
    "### Comparing the different fits\n",
    "\n",
    "Looking at the output above, we can see that the fit results are virtually identical, except that in the second run the `Scale1D` models take the role of the normalizations.\n",
    "\n",
    "Comparison of fitted values"
   ]
  },
  {
   "cell_type": "code",
   "execution_count": 20,
   "metadata": {},
   "outputs": [
    {
     "data": {
      "text/html": [
       "<style>/*\n",
       "Copyright (C) 2020  Smithsonian Astrophysical Observatory\n",
       "\n",
       "\n",
       " This program is free software; you can redistribute it and/or modify\n",
       " it under the terms of the GNU General Public License as published by\n",
       " the Free Software Foundation; either version 3 of the License, or\n",
       " (at your option) any later version.\n",
       "\n",
       " This program is distributed in the hope that it will be useful,\n",
       " but WITHOUT ANY WARRANTY; without even the implied warranty of\n",
       " MERCHANTABILITY or FITNESS FOR A PARTICULAR PURPOSE.  See the\n",
       " GNU General Public License for more details.\n",
       "\n",
       " You should have received a copy of the GNU General Public License along\n",
       " with this program; if not, write to the Free Software Foundation, Inc.,\n",
       " 51 Franklin Street, Fifth Floor, Boston, MA 02110-1301 USA.\n",
       "\n",
       "*/\n",
       "\n",
       ":root {\n",
       "  --sherpa-border-color: var(--jp-border-color2, #e0e0e0);\n",
       "  --sherpa-background-color: var(--jp-layout-color0, white);\n",
       "  --sherpa-background-color-row-even: var(--jp-layout-color1, white);\n",
       "  --sherpa-background-color-row-odd: var(--jp-layout-color2, #eeeeee);\n",
       "\n",
       "  /* https://medium.com/ge-design/iot-cool-gray-is-a-great-background-color-for-data-visualization-ebf18c318418 */\n",
       "  --sherpa-background-color-dark1: #EBEFF2;\n",
       "  --sherpa-background-color-dark2: #D8E0E5;\n",
       "}\n",
       "\n",
       "div.sherpa-text-fallback {\n",
       "    display: none;\n",
       "}\n",
       "\n",
       "div.sherpa {\n",
       "    display: block;\n",
       "}\n",
       "\n",
       "div.sherpa details summary {\n",
       "    display: list-item;  /* needed for notebook, not lab */\n",
       "    font-size: larger;\n",
       "}\n",
       "\n",
       "div.sherpa details div.datavals {\n",
       "    display: grid;\n",
       "    grid-template-columns: 1fr 3fr;\n",
       "    column-gap: 0.5em;\n",
       "}\n",
       "\n",
       "div.sherpa div.dataname {\n",
       "    font-weight: bold;\n",
       "    border-right: 1px solid var(--sherpa-border-color);\n",
       "}\n",
       "\n",
       "div.sherpa div.dataval { }\n",
       "\n",
       "div.sherpa div.datavals div:nth-child(4n + 1) ,\n",
       "div.sherpa div.datavals div:nth-child(4n + 2) {\n",
       "    background: var(--sherpa-background-color-row-odd);\n",
       "}\n",
       "\n",
       "div.sherpa table.model tbody {\n",
       "    border-bottom: 1px solid var(--sherpa-border-color);\n",
       "}\n",
       "\n",
       "div.sherpa table.model tr.block {\n",
       "    border-top: 1px solid var(--sherpa-border-color);\n",
       "}\n",
       "\n",
       "div.sherpa table.model th.model-odd ,\n",
       "div.sherpa table.model th.model-even {\n",
       "    border-right: 1px solid var(--sherpa-border-color);\n",
       "}\n",
       "\n",
       "div.sherpa table.model th.model-odd {\n",
       "    background: var(--sherpa-background-color-dark1);\n",
       "}\n",
       "\n",
       "div.sherpa table.model th.model-even {\n",
       "    background: var(--sherpa-background-color-dark2);\n",
       "}\n",
       "\n",
       "div.sherpa .failed {\n",
       "    background: orange;\n",
       "    font-size: large;\n",
       "    padding: 1em;\n",
       "}\n",
       "</style><div class=\"sherpa-text-fallback\">&lt;RSPModelPHA model instance &#x27;apply_rmf(apply_arf(29715.734470358 * (abs1 * apec1 + abs2 * apec2)))&#x27;&gt;</div><div hidden class=\"sherpa\"><details open><summary>Model</summary><table class=\"model\"><caption>Expression: apply_rmf(apply_arf(29715.734470358 * (abs1 * apec1 + abs2 * apec2)))</caption><thead><tr><th>Component</th><th>Parameter</th><th>Thawed</th><th>Value</th><th>Min</th><th>Max</th><th>Units</th></tr></thead><tbody><tr><th class=\"model-odd\" scope=\"rowgroup\" rowspan=1>abs1</th><td>nH</td><td><input disabled type=\"checkbox\" checked></input></td><td>0.7083108103752704</td><td>0.0</td><td>1000000.0</td><td>10^22 atoms / cm^2</td></tr><tr class=\"block\"><th class=\"model-even\" scope=\"rowgroup\" rowspan=4>apec1</th><td>kT</td><td><input disabled type=\"checkbox\" checked></input></td><td>0.21148123040391778</td><td>0.008</td><td>64.0</td><td>keV</td></tr><tr><td>Abundanc</td><td><input disabled type=\"checkbox\"></input></td><td>1.0</td><td>0.0</td><td>5.0</td><td></td></tr><tr><td>Redshift</td><td><input disabled type=\"checkbox\"></input></td><td>0.0</td><td>-0.999</td><td>10.0</td><td></td></tr><tr><td>norm</td><td><input disabled type=\"checkbox\" checked></input></td><td>0.0003242061816446599</td><td>0.0</td><td>1e+24</td><td></td></tr><tr class=\"block\"><th class=\"model-odd\" scope=\"rowgroup\" rowspan=1>abs2</th><td>nH</td><td><input disabled type=\"checkbox\" checked></input></td><td>2.549520884043411</td><td>0.0</td><td>1000000.0</td><td>10^22 atoms / cm^2</td></tr><tr class=\"block\"><th class=\"model-even\" scope=\"rowgroup\" rowspan=4>apec2</th><td>kT</td><td><input disabled type=\"checkbox\" checked></input></td><td>2.127511107669363</td><td>0.008</td><td>64.0</td><td>keV</td></tr><tr><td>Abundanc</td><td><input disabled type=\"checkbox\"></input></td><td>1.0</td><td>0.0</td><td>5.0</td><td></td></tr><tr><td>Redshift</td><td><input disabled type=\"checkbox\"></input></td><td>0.0</td><td>-0.999</td><td>10.0</td><td></td></tr><tr><td>norm</td><td><input disabled type=\"checkbox\" checked></input></td><td>0.0001906438171953562</td><td>0.0</td><td>1e+24</td><td></td></tr></tbody></table></details></div>"
      ],
      "text/plain": [
       "<RSPModelPHA model instance 'apply_rmf(apply_arf(29715.734470358 * (abs1 * apec1 + abs2 * apec2)))'>"
      ]
     },
     "execution_count": 20,
     "metadata": {},
     "output_type": "execute_result"
    }
   ],
   "source": [
    "ui.get_model(1)"
   ]
  },
  {
   "cell_type": "code",
   "execution_count": 21,
   "metadata": {},
   "outputs": [
    {
     "data": {
      "text/html": [
       "<style>/*\n",
       "Copyright (C) 2020  Smithsonian Astrophysical Observatory\n",
       "\n",
       "\n",
       " This program is free software; you can redistribute it and/or modify\n",
       " it under the terms of the GNU General Public License as published by\n",
       " the Free Software Foundation; either version 3 of the License, or\n",
       " (at your option) any later version.\n",
       "\n",
       " This program is distributed in the hope that it will be useful,\n",
       " but WITHOUT ANY WARRANTY; without even the implied warranty of\n",
       " MERCHANTABILITY or FITNESS FOR A PARTICULAR PURPOSE.  See the\n",
       " GNU General Public License for more details.\n",
       "\n",
       " You should have received a copy of the GNU General Public License along\n",
       " with this program; if not, write to the Free Software Foundation, Inc.,\n",
       " 51 Franklin Street, Fifth Floor, Boston, MA 02110-1301 USA.\n",
       "\n",
       "*/\n",
       "\n",
       ":root {\n",
       "  --sherpa-border-color: var(--jp-border-color2, #e0e0e0);\n",
       "  --sherpa-background-color: var(--jp-layout-color0, white);\n",
       "  --sherpa-background-color-row-even: var(--jp-layout-color1, white);\n",
       "  --sherpa-background-color-row-odd: var(--jp-layout-color2, #eeeeee);\n",
       "\n",
       "  /* https://medium.com/ge-design/iot-cool-gray-is-a-great-background-color-for-data-visualization-ebf18c318418 */\n",
       "  --sherpa-background-color-dark1: #EBEFF2;\n",
       "  --sherpa-background-color-dark2: #D8E0E5;\n",
       "}\n",
       "\n",
       "div.sherpa-text-fallback {\n",
       "    display: none;\n",
       "}\n",
       "\n",
       "div.sherpa {\n",
       "    display: block;\n",
       "}\n",
       "\n",
       "div.sherpa details summary {\n",
       "    display: list-item;  /* needed for notebook, not lab */\n",
       "    font-size: larger;\n",
       "}\n",
       "\n",
       "div.sherpa details div.datavals {\n",
       "    display: grid;\n",
       "    grid-template-columns: 1fr 3fr;\n",
       "    column-gap: 0.5em;\n",
       "}\n",
       "\n",
       "div.sherpa div.dataname {\n",
       "    font-weight: bold;\n",
       "    border-right: 1px solid var(--sherpa-border-color);\n",
       "}\n",
       "\n",
       "div.sherpa div.dataval { }\n",
       "\n",
       "div.sherpa div.datavals div:nth-child(4n + 1) ,\n",
       "div.sherpa div.datavals div:nth-child(4n + 2) {\n",
       "    background: var(--sherpa-background-color-row-odd);\n",
       "}\n",
       "\n",
       "div.sherpa table.model tbody {\n",
       "    border-bottom: 1px solid var(--sherpa-border-color);\n",
       "}\n",
       "\n",
       "div.sherpa table.model tr.block {\n",
       "    border-top: 1px solid var(--sherpa-border-color);\n",
       "}\n",
       "\n",
       "div.sherpa table.model th.model-odd ,\n",
       "div.sherpa table.model th.model-even {\n",
       "    border-right: 1px solid var(--sherpa-border-color);\n",
       "}\n",
       "\n",
       "div.sherpa table.model th.model-odd {\n",
       "    background: var(--sherpa-background-color-dark1);\n",
       "}\n",
       "\n",
       "div.sherpa table.model th.model-even {\n",
       "    background: var(--sherpa-background-color-dark2);\n",
       "}\n",
       "\n",
       "div.sherpa .failed {\n",
       "    background: orange;\n",
       "    font-size: large;\n",
       "    padding: 1em;\n",
       "}\n",
       "</style><div class=\"sherpa-text-fallback\">&lt;RSPModelPHA model instance &#x27;apply_rmf(apply_arf(29715.734470358 * (abs21 * const1 * apec21 + abs22 * const2 * apec22)))&#x27;&gt;</div><div hidden class=\"sherpa\"><details open><summary>Model</summary><table class=\"model\"><caption>Expression: apply_rmf(apply_arf(29715.734470358 * (abs21 * const1 * apec21 + abs22 * const2 * apec22)))</caption><thead><tr><th>Component</th><th>Parameter</th><th>Thawed</th><th>Value</th><th>Min</th><th>Max</th><th>Units</th></tr></thead><tbody><tr><th class=\"model-odd\" scope=\"rowgroup\" rowspan=1>abs21</th><td>nH</td><td><input disabled type=\"checkbox\" checked></input></td><td>0.7082891495274662</td><td>0.0</td><td>1000000.0</td><td>10^22 atoms / cm^2</td></tr><tr class=\"block\"><th class=\"model-even\" scope=\"rowgroup\" rowspan=1>const1</th><td>c0</td><td><input disabled type=\"checkbox\" checked></input></td><td>0.00032415749648098235</td><td>-MAX</td><td>MAX</td><td></td></tr><tr class=\"block\"><th class=\"model-odd\" scope=\"rowgroup\" rowspan=4>apec21</th><td>kT</td><td><input disabled type=\"checkbox\" checked></input></td><td>0.21148542251693148</td><td>0.008</td><td>64.0</td><td>keV</td></tr><tr><td>Abundanc</td><td><input disabled type=\"checkbox\"></input></td><td>1.0</td><td>0.0</td><td>5.0</td><td></td></tr><tr><td>Redshift</td><td><input disabled type=\"checkbox\"></input></td><td>0.0</td><td>-0.999</td><td>10.0</td><td></td></tr><tr><td>norm</td><td><input disabled type=\"checkbox\"></input></td><td>1.0</td><td>0.0</td><td>1e+24</td><td></td></tr><tr class=\"block\"><th class=\"model-even\" scope=\"rowgroup\" rowspan=1>abs22</th><td>nH</td><td><input disabled type=\"checkbox\" checked></input></td><td>2.5495318901852473</td><td>0.0</td><td>1000000.0</td><td>10^22 atoms / cm^2</td></tr><tr class=\"block\"><th class=\"model-odd\" scope=\"rowgroup\" rowspan=1>const2</th><td>c0</td><td><input disabled type=\"checkbox\" checked></input></td><td>0.0001906454947873881</td><td>-MAX</td><td>MAX</td><td></td></tr><tr class=\"block\"><th class=\"model-even\" scope=\"rowgroup\" rowspan=4>apec22</th><td>kT</td><td><input disabled type=\"checkbox\" checked></input></td><td>2.1274957641009338</td><td>0.008</td><td>64.0</td><td>keV</td></tr><tr><td>Abundanc</td><td><input disabled type=\"checkbox\"></input></td><td>1.0</td><td>0.0</td><td>5.0</td><td></td></tr><tr><td>Redshift</td><td><input disabled type=\"checkbox\"></input></td><td>0.0</td><td>-0.999</td><td>10.0</td><td></td></tr><tr><td>norm</td><td><input disabled type=\"checkbox\"></input></td><td>1.0</td><td>0.0</td><td>1e+24</td><td></td></tr></tbody></table></details></div>"
      ],
      "text/plain": [
       "<RSPModelPHA model instance 'apply_rmf(apply_arf(29715.734470358 * (abs21 * const1 * apec21 + abs22 * const2 * apec22)))'>"
      ]
     },
     "execution_count": 21,
     "metadata": {},
     "output_type": "execute_result"
    }
   ],
   "source": [
    "ui.get_model(2)"
   ]
  },
  {
   "cell_type": "code",
   "execution_count": 22,
   "metadata": {},
   "outputs": [
    {
     "name": "stdout",
     "output_type": "stream",
     "text": [
      "Run time comparison:\n",
      "Model 1 (direct apec): 0.14 seconds\n",
      "Model 2 (const * apec): 0.73 seconds\n"
     ]
    }
   ],
   "source": [
    "print(\"Run time comparison:\")\n",
    "print(f\"Model 1 (direct apec): {end_time - start_time:.2f} seconds\")\n",
    "print(f\"Model 2 (const * apec): {end_time2 - start_time2:.2f} seconds\")"
   ]
  },
  {
   "cell_type": "markdown",
   "metadata": {},
   "source": [
    "So, the fit values are almost identical, but the speed-up for this particular model by 30%. The setup of this fit is physically motivated and is very close to the model used in the relevant publication. The spectrum is from DG Tau which shows two components - a hot and highly absorbed star and a stellar jet with about 300 km/s the pierces through the intervening material and thus has a much lower absorption component.\n",
    "\n",
    "Of course, the speed-up will depend on the model and the data, and might be less in this example if there are more parameters to be fit. Yet, I want to stress that this is to a custom-made, simulated dataset, but simply a star from the Chandra archive, repeating the fit with a setup very similar to the relevant publication. \n",
    "\n",
    "In the next few plot, I want to look a bit and get a feeling for why this approach is so effective."
   ]
  },
  {
   "cell_type": "code",
   "execution_count": 13,
   "metadata": {},
   "outputs": [
    {
     "data": {
      "image/png": "[encoded data removed]",
      "text/plain": [
       "<Figure size 1200x400 with 3 Axes>"
      ]
     },
     "metadata": {},
     "output_type": "display_data"
    }
   ],
   "source": [
    "fig, axes = plt.subplots(1, 3, figsize=(12, 4))\n",
    "axes[0].plot(tab[\"apec1.norm\"], label=\"apec1 (model 1)\")\n",
    "axes[0].plot(tab[\"apec2.norm\"], label=\"apec2 (model 1)\")\n",
    "axes[0].plot(tab2[\"const1.c0\"], label=\"const1 (model 2)\")\n",
    "axes[0].plot(tab2[\"const2.c0\"], label=\"const2 (model 2)\")\n",
    "axes[0].set_yscale(\"log\")\n",
    "axes[0].set_title(\"Normalization\")\n",
    "axes[0].legend()\n",
    "\n",
    "axes[1].plot(tab[\"apec1.kT\"])\n",
    "axes[1].plot(tab[\"apec2.kT\"])\n",
    "axes[1].plot(tab2[\"apec21.kT\"])\n",
    "axes[1].plot(tab2[\"apec22.kT\"])\n",
    "axes[1].set_title(\"Temperature\")\n",
    "\n",
    "axes[2].plot(tab[\"abs1.nH\"])\n",
    "axes[2].plot(tab[\"abs2.nH\"])\n",
    "axes[2].plot(tab2[\"abs21.nH\"])\n",
    "axes[2].plot(tab2[\"abs22.nH\"])\n",
    "axes[2].set_title(\"Absorption\")\n",
    "\n",
    "for ax in axes:\n",
    "    ax.set_xlabel(\"Iteration\")"
   ]
  },
  {
   "cell_type": "markdown",
   "metadata": {},
   "source": [
    "The plots above show the evolution of the parameters over the iterations of the fit. Since the use the same data, the same optimizer, and the same starting value it is not surprising that the steps are very similar, pratically falling on top of each other; the equivalent lines for the two plots are blue/green and orange/red and indeed it is difficult to spot the difference. That means that out timing comparison is meaningful - the second fit is faster because each step is evaluated faster, not because the optimizer found a shortcut somewhere.\n",
    "\n",
    "For this specific model and optimizer, we can see that the git typically changes one of the values (sometimes by very small amounts such as 1e-5, which are not visible in the plot) and then keeps is constant while changing a different value. Looking in particular at the apec models (left and middle panel), the caching of model values takes care of the situation where the apec is called with exactly identical parameters and only one or both of the nH values are changed. In this case, the apec is not recalculated and the value is simply retrieved from the model cache, which is a very fast operation. However, in the fit 1 (blue/orange) the apec model is recalculated every time either the norm or the temperature is changed; in fit 2, the norm of the apec is frozen and its role taken by the `Scale1D` model, which is a much faster operation. Now, *only* changes in the temperature trigger a new apec calculation, which is a much less frequent event leading to the speed-up."
   ]
  },
  {
   "cell_type": "code",
   "execution_count": 24,
   "metadata": {},
   "outputs": [
    {
     "name": "stdout",
     "output_type": "stream",
     "text": [
      " apec1                      size:    5  hits:    12  misses:     7  check:    19\n",
      " apec2                      size:    5  hits:    12  misses:     7  check:    19\n",
      " apec21                     size:    5  hits:     9  misses:     3  check:    12\n",
      " apec22                     size:    5  hits:     9  misses:     3  check:    12\n",
      " const1                     size:    5  hits:     9  misses:     3  check:    12\n",
      " const2                     size:    5  hits:     9  misses:     3  check:    12\n"
     ]
    }
   ],
   "source": [
    "# The output of the cache_status method is suspect and might not be accurate\n",
    "# Despite the reported size, this really acts as a size=1 cache in this run due to a known bug in caching:\n",
    "# see https://github.com/sherpa/sherpa/pull/2166\n",
    "\n",
    "for m in [apec1, apec2, apec21, apec22, const21, const22]:\n",
    "    m.cache_status()"
   ]
  },
  {
   "cell_type": "markdown",
   "metadata": {},
   "source": [
    "## Getting results\n",
    "\n",
    "Because of the internal XSPEC cache, I can't just run the notebook to bottom, whatever model is run first will take longer. Thus, instead, I restart and just run the cells that I need and write down the run-time manually to make a fair comparison.\n",
    "\n",
    "I try four scenarios and get the runtimes below. I've redone every scenario a number of times and the timing is stable; also the fits results are virtual indistinguishable (typically agree to 5 digits or so).\n",
    "\n",
    "- Model 1, first fit after starting sherpa: 2.5 to 2.7 seconds, 117 function evaluations\n",
    "- Model 2, first fit after starting sherpa: 2.3 seconds, 103 function evaluations\n",
    "- Model 1, last of several runs (so the APEC internal cache is filled, but creating new model objects in Sherpa and resetting starting values every time): 1.0 seconds, 117 function evaluations\n",
    "- Model 2, last of several runs (so the APEC internal cache is filled, but creating new model objects in Sherpa and resetting starting values every time): 0.7 seconds, 103 function evaluations\n",
    "\n",
    "\n",
    "\n",
    "## Conclusion for APEC models\n",
    "\n",
    "Model 1 needs 117/103 =1.136 as many evaluations, and it takes 2.6/2.3 =1.13 times as long (in a cold start), so we can conclude that there is no benefit to special case the the norm for XSPEC APEC class models. (But, looking at detailed timing using cPython's profiler, it also doesn't hurt that much - the biggest impact is running md5 to calculate the hash for the modelCacher1D which needs about 1% of the runtime.)"
   ]
  },
  {
   "cell_type": "markdown",
   "metadata": {},
   "source": [
    "## Do all XSPEC models internally treat the norm?\n",
    "\n",
    "If all XSPEC models treat the norm in the same way as the APEC models, then we can conclude that there is no benefit to special case the norm for XSPEC models.So, lets check that for other additative models."
   ]
  },
  {
   "cell_type": "code",
   "execution_count": 3,
   "metadata": {},
   "outputs": [],
   "source": [
    "from sherpa.astro import xspec"
   ]
  },
  {
   "cell_type": "code",
   "execution_count": 26,
   "metadata": {},
   "outputs": [],
   "source": [
    "additative_model_list = xspec.XSAdditiveModel.__subclasses__()\n",
    "\n",
    "# Short version for writing and testing the code below\n",
    "additative_model_list_short = additative_model_list[:5]\n",
    "\n"
   ]
  },
  {
   "cell_type": "code",
   "execution_count": 4,
   "metadata": {},
   "outputs": [],
   "source": [
    "en_bins = np.arange(0.2, 10.0, 0.01)\n"
   ]
  },
  {
   "cell_type": "code",
   "execution_count": 5,
   "metadata": {},
   "outputs": [],
   "source": [
    "from collections import defaultdict\n",
    "\n",
    "def measure_runtime(\n",
    "    mdlclass, pars_to_vary=None, n=10, en_bins=np.arange(0.2, 10.0, 0.01)\n",
    "):\n",
    "    # do something, because models often initialize on first use\n",
    "    mdl = mdlclass()\n",
    "    flux = mdl(xlo=[1,2], xhi=[2, 3])\n",
    "\n",
    "    # Then leave parameters on default values and change norm\n",
    "    run_time = defaultdict(list)\n",
    "    if pars_to_vary is None:\n",
    "        pars_to_vary  = mdl.pars\n",
    "    else:\n",
    "        pars_to_vary.append(\"norm\")\n",
    "        pars_to_vary = [p for p in mdl.pars if p.name in pars_to_vary]\n",
    "    defaults = [p.val for p in pars_to_vary]\n",
    "    for i, par in enumerate(pars_to_vary):\n",
    "        #if par.frozen:\n",
    "        #    continue\n",
    "        for pval in np.linspace(par.min, par.max, num=n):\n",
    "            par.val = pval\n",
    "            start_time = time.perf_counter()\n",
    "            flux = mdl(xlo=en_bins[:-1], xhi=en_bins[1:])\n",
    "            end_time = time.perf_counter()\n",
    "            run_time[par.name].append(end_time - start_time)\n",
    "            par.val = defaults[i]\n",
    "    return run_time"
   ]
  },
  {
   "cell_type": "code",
   "execution_count": 6,
   "metadata": {},
   "outputs": [],
   "source": [
    "def print_runtime_stats(run_time):\n",
    "    for k, v in run_time.items():\n",
    "        mean, median, stddev = sigma_clipped_stats(v)\n",
    "        print(\n",
    "            f\"    {k:10}: {np.mean(v):.3g} +/- {np.std(v):.3g} seconds -- ({mean:.3g} +/- {stddev:.3g} (sigma clipped))\"\n",
    "        )"
   ]
  },
  {
   "cell_type": "code",
   "execution_count": 12,
   "metadata": {},
   "outputs": [],
   "source": [
    "model_pars_to_test = {\n",
    "    \"XSagauss\": None,\n",
    "    \"XSagnsed\": [\"mass\", \"astar\", \"cosi\"],\n",
    "    \"XSagnslim\": [\"mass\", \"astar\", \"cosi\"],\n",
    "    \"XSapec\": None,\n",
    "    \"XSbbody\": None,\n",
    "    \"XSbcempow\": [\"alpha\", \"Tmax\", \"nH\", \"velocity\"],\n",
    "    \"XSbcie\": [\"kT\", \"Abundanc\"],\n",
    "    \"XSbcoolflow\": [\"kT\", \"Abundanc\", \"Redshift\"],\n",
    "    \"XScompTT\": None,\n",
    "    \"XSpowerlaw\": None,\n",
    "    #\"XSvlorentz\": None,\n",
    "}"
   ]
  },
  {
   "cell_type": "code",
   "execution_count": 13,
   "metadata": {},
   "outputs": [
    {
     "name": "stdout",
     "output_type": "stream",
     "text": [
      "    PhoIndex  : 0.000129 +/- 5.39e-05 seconds -- (0.000129 +/- 5.39e-05 (sigma clipped))\n",
      "    norm      : 9.5e-05 +/- 3.58e-06 seconds -- (9.38e-05 +/- 5.08e-07 (sigma clipped))\n"
     ]
    },
    {
     "name": "stderr",
     "output_type": "stream",
     "text": [
      "/Users/guenther/code/sherpa/sherpa/astro/xspec/__init__.py:1465: FutureWarning: calc() requires pars,lo,hi arguments, sent 2 arguments\n",
      "  warnings.warn(emsg, FutureWarning)\n"
     ]
    }
   ],
   "source": [
    "mdlclass = \"XSpowerlaw\"\n",
    "pars_to_vary = None\n",
    "run_time = measure_runtime(getattr(xspec, mdlclass), pars_to_vary=pars_to_vary)\n",
    "print_runtime_stats(run_time)"
   ]
  },
  {
   "cell_type": "code",
   "execution_count": null,
   "metadata": {},
   "outputs": [
    {
     "name": "stdout",
     "output_type": "stream",
     "text": [
      "XSagauss\n",
      "    LineE     : 0.000201 +/- 7.6e-05 seconds -- (0.000176 +/- 5.61e-06 (sigma clipped))\n",
      "    Sigma     : 0.000195 +/- 3.34e-05 seconds -- (0.000195 +/- 3.34e-05 (sigma clipped))\n",
      "    norm      : 0.000177 +/- 4.12e-05 seconds -- (0.000164 +/- 1.38e-05 (sigma clipped))\n",
      "XSagnsed\n"
     ]
    },
    {
     "name": "stderr",
     "output_type": "stream",
     "text": [
      "/Users/guenther/code/sherpa/sherpa/astro/xspec/__init__.py:1465: FutureWarning: calc() requires pars,lo,hi arguments, sent 2 arguments\n",
      "  warnings.warn(emsg, FutureWarning)\n",
      "/Users/guenther/code/sherpa/sherpa/astro/xspec/__init__.py:1465: FutureWarning: calc() requires pars,lo,hi arguments, sent 2 arguments\n",
      "  warnings.warn(emsg, FutureWarning)\n"
     ]
    },
    {
     "name": "stdout",
     "output_type": "stream",
     "text": [
      "    mass      : 0.133 +/- 0.0202 seconds -- (0.124 +/- 0.00287 (sigma clipped))\n",
      "    astar     : 0.134 +/- 0.00383 seconds -- (0.133 +/- 0.000814 (sigma clipped))\n",
      "    cosi      : 0.132 +/- 0.00063 seconds -- (0.132 +/- 0.00063 (sigma clipped))\n",
      "    norm      : 0.13 +/- 0.00192 seconds -- (0.13 +/- 0.00192 (sigma clipped))\n",
      "XSagnslim\n"
     ]
    },
    {
     "name": "stderr",
     "output_type": "stream",
     "text": [
      "/Users/guenther/code/sherpa/sherpa/astro/xspec/__init__.py:1465: FutureWarning: calc() requires pars,lo,hi arguments, sent 2 arguments\n",
      "  warnings.warn(emsg, FutureWarning)\n"
     ]
    },
    {
     "name": "stdout",
     "output_type": "stream",
     "text": [
      "    mass      : 0.102 +/- 0.00308 seconds -- (0.1 +/- 0.000368 (sigma clipped))\n",
      "    astar     : 0.102 +/- 0.000346 seconds -- (0.102 +/- 0.000346 (sigma clipped))\n",
      "    cosi      : 0.103 +/- 0.000319 seconds -- (0.103 +/- 0.000319 (sigma clipped))\n",
      "    norm      : 0.103 +/- 0.000239 seconds -- (0.103 +/- 0.000114 (sigma clipped))\n",
      "XSapec\n",
      "Reading APEC data from 3.0.9\n",
      "\n"
     ]
    },
    {
     "name": "stderr",
     "output_type": "stream",
     "text": [
      "/Users/guenther/code/sherpa/sherpa/astro/xspec/__init__.py:1465: FutureWarning: calc() requires pars,lo,hi arguments, sent 2 arguments\n",
      "  warnings.warn(emsg, FutureWarning)\n"
     ]
    },
    {
     "name": "stdout",
     "output_type": "stream",
     "text": [
      "    kT        : 0.0633 +/- 0.0333 seconds -- (0.0523 +/- 0.00576 (sigma clipped))\n",
      "    Abundanc  : 0.0156 +/- 0.00387 seconds -- (0.0168 +/- 0.00011 (sigma clipped))\n",
      "    Redshift  : 0.00726 +/- 0.00388 seconds -- (0.00726 +/- 0.00388 (sigma clipped))\n",
      "    norm      : 0.0169 +/- 0.000177 seconds -- (0.0169 +/- 0.000177 (sigma clipped))\n",
      "XSbbody\n",
      "    kT        : 5.63e-05 +/- 4.44e-05 seconds -- (3.52e-05 +/- 1.38e-06 (sigma clipped))\n",
      "    norm      : 3.45e-05 +/- 5.02e-07 seconds -- (3.43e-05 +/- 1.74e-07 (sigma clipped))\n",
      "XSbcempow\n"
     ]
    },
    {
     "name": "stderr",
     "output_type": "stream",
     "text": [
      "/Users/guenther/code/sherpa/sherpa/astro/xspec/__init__.py:1465: FutureWarning: calc() requires pars,lo,hi arguments, sent 2 arguments\n",
      "  warnings.warn(emsg, FutureWarning)\n",
      "/Users/guenther/code/sherpa/sherpa/astro/xspec/__init__.py:1465: FutureWarning: calc() requires pars,lo,hi arguments, sent 2 arguments\n",
      "  warnings.warn(emsg, FutureWarning)\n"
     ]
    },
    {
     "name": "stdout",
     "output_type": "stream",
     "text": [
      " Warning: temperature 88.8919> maximum in model file 86.1739\n",
      "\n",
      " Warning: temperature 88.8919> maximum in model file 86.1739\n",
      "\n",
      " Warning: temperature 100> maximum in model file 86.1739\n",
      "\n",
      " Warning: temperature 100> maximum in model file 86.1739\n",
      "\n",
      "    alpha     : 0.188 +/- 0.0178 seconds -- (0.183 +/- 0.00262 (sigma clipped))\n",
      "    Tmax      : 0.854 +/- 1.37 seconds -- (0.4 +/- 0.159 (sigma clipped))\n",
      "    nH        : 0.188 +/- 0.00338 seconds -- (0.188 +/- 0.00338 (sigma clipped))\n",
      "    norm      : 0.187 +/- 0.0032 seconds -- (0.187 +/- 0.0032 (sigma clipped))\n",
      "XSbcie\n"
     ]
    },
    {
     "name": "stderr",
     "output_type": "stream",
     "text": [
      "/Users/guenther/code/sherpa/sherpa/astro/xspec/__init__.py:1465: FutureWarning: calc() requires pars,lo,hi arguments, sent 2 arguments\n",
      "  warnings.warn(emsg, FutureWarning)\n"
     ]
    },
    {
     "name": "stdout",
     "output_type": "stream",
     "text": [
      "    kT        : 0.0042 +/- 0.000435 seconds -- (0.0042 +/- 0.000435 (sigma clipped))\n",
      "    Abundanc  : 0.0183 +/- 0.00478 seconds -- (0.0199 +/- 0.00011 (sigma clipped))\n",
      "    norm      : 0.0204 +/- 0.000645 seconds -- (0.0204 +/- 0.000645 (sigma clipped))\n",
      "XSbcoolflow\n"
     ]
    },
    {
     "name": "stderr",
     "output_type": "stream",
     "text": [
      "/Users/guenther/code/sherpa/sherpa/astro/xspec/__init__.py:1465: FutureWarning: calc() requires pars,lo,hi arguments, sent 2 arguments\n",
      "  warnings.warn(emsg, FutureWarning)\n"
     ]
    },
    {
     "name": "stdout",
     "output_type": "stream",
     "text": [
      "\n",
      " BVCOOLFLOW: Require z > 0 for cooling flow models\n",
      "    Abundanc  : 0.345 +/- 0.0859 seconds -- (0.374 +/- 0.00157 (sigma clipped))\n",
      "    Redshift  : 0.286 +/- 0.0976 seconds -- (0.318 +/- 0.0215 (sigma clipped))\n",
      "    norm      : 0.374 +/- 0.000613 seconds -- (0.374 +/- 0.000613 (sigma clipped))\n",
      "XScompTT\n",
      "    Redshift  : 0.000306 +/- 0.000109 seconds -- (0.000273 +/- 4.72e-05 (sigma clipped))\n",
      "    T0        : 0.000243 +/- 2.02e-06 seconds -- (0.000243 +/- 2.02e-06 (sigma clipped))\n",
      "    kT        : 0.00028 +/- 2.11e-05 seconds -- (0.000273 +/- 6.03e-06 (sigma clipped))\n",
      "    taup      : 0.000263 +/- 6.42e-06 seconds -- (0.000263 +/- 6.42e-06 (sigma clipped))\n",
      "    approx    : 0.000268 +/- 9.75e-07 seconds -- (0.000268 +/- 4.81e-07 (sigma clipped))\n",
      "    norm      : 0.000271 +/- 5.34e-06 seconds -- (0.000271 +/- 5.34e-06 (sigma clipped))\n"
     ]
    },
    {
     "name": "stderr",
     "output_type": "stream",
     "text": [
      "/Users/guenther/code/sherpa/sherpa/astro/xspec/__init__.py:1465: FutureWarning: calc() requires pars,lo,hi arguments, sent 2 arguments\n",
      "  warnings.warn(emsg, FutureWarning)\n"
     ]
    }
   ],
   "source": [
    "for mdlclass, pars_to_vary in model_pars_to_test.items():\n",
    "    print(f\"{mdlclass}\")\n",
    "    run_time = measure_runtime(getattr(xspec, mdlclass), pars_to_vary=pars_to_vary)\n",
    "    print_runtime_stats(run_time)\n",
    " \n"
   ]
  },
  {
   "cell_type": "markdown",
   "metadata": {},
   "source": [
    "First a few notes. Those notes are based on things that I explored interactively but I'm not keeping every step here in order to keep the notebook more readable:\n",
    "\n",
    "- Redshift can change the number of spectral bins that a model considers or where a model actually needs to perform calculation. So, changing the redshift is often \"fast\", but that's not because it's a fast, buffered operations, it's because the number of bins for which anything needs to be calculated is changing. Note true for all, but for some models.\n",
    "- Internal cache: There are **a lot** of models that use (or can use, depending on the setting) APEC underneath. I suspect that they all share the same internal cache and often the same steps in energy etc., so that the cache is still filled when the latter models are run.\n",
    "\n",
    "## Interpretation\n",
    "We can think of XSPEC models falling into broad categories:\n",
    "\n",
    "- Fast analytic models, e.g. `XSgauss`, `XSlorentz`, `XSpowerlaw`. Runtime obviously depends on the number of bins etc, but with the grid above they need of order 1e-4 s for evaluation and evaluate at the same speed for all parameters. Cashing is probably irrelavant, but also not necessarily harmful (spend time on hash calculation, but cache look-up is even faster than evaluation) beyond the memory use.\n",
    "- APEC-type models with internal cache. As shown above in this notebook, the internal cache is very effective; using an extra sherpa cache neither harms nor helps in real fitting situations.\n",
    "- Models that have a significant runtime (e.g. `XSbcoolflow`) and where the \"norm\" parameter is not any faster than the other parameters; those might be good candidates to speed up with special treatment of the norm parameter. \n",
    "\n",
    "### A thought of caution\n",
    "However, have to be careful here - do we know that the \"norm\" parameter is always just a scalar factor and that we don't have e.g. effects of optical depth or curve-of-growth? That's something we need to either understand per model or at least test for a wide range of input parameters."
   ]
  },
  {
   "cell_type": "markdown",
   "metadata": {},
   "source": [
    "### Experiment: Can I speed up `XSbcoolflow` with a strategy similar to what I tried before for APEC?\n",
    "\n",
    "If I want an end-to-end comparison, I need a dataset to fit. I don't think we have one that looks reasonable, so I'll create one in a simulation. It seems that the model does not do a lot of internal caching (otherwise I would expect it to be faster) so hopefully I don't have to restart the kernel every time to get a fair comparison."
   ]
  },
  {
   "cell_type": "code",
   "execution_count": 3,
   "metadata": {},
   "outputs": [
    {
     "name": "stdout",
     "output_type": "stream",
     "text": [
      "read ARF file ../curated-test-data/Chandra/ACIS/acisf04487_001N022_r0009_arf3.fits\n",
      "read RMF file ../curated-test-data/Chandra/ACIS/acisf04487_001N022_r0009_rmf3.fits\n",
      "read background file ../curated-test-data/Chandra/ACIS/acisf04487_001N023_r0009_pha3.fits\n"
     ]
    }
   ],
   "source": [
    "# Load some dataset so we have an arf and rmf in memory\n",
    "ui.load_pha(\n",
    "    3, \"../curated-test-data/Chandra/ACIS/acisf04487_001N023_r0009_pha3.fits.gz\"\n",
    ")\n"
   ]
  },
  {
   "cell_type": "code",
   "execution_count": null,
   "metadata": {},
   "outputs": [
    {
     "data": {
      "text/html": [
       "<style>/*\n",
       "Copyright (C) 2020  Smithsonian Astrophysical Observatory\n",
       "\n",
       "\n",
       " This program is free software; you can redistribute it and/or modify\n",
       " it under the terms of the GNU General Public License as published by\n",
       " the Free Software Foundation; either version 3 of the License, or\n",
       " (at your option) any later version.\n",
       "\n",
       " This program is distributed in the hope that it will be useful,\n",
       " but WITHOUT ANY WARRANTY; without even the implied warranty of\n",
       " MERCHANTABILITY or FITNESS FOR A PARTICULAR PURPOSE.  See the\n",
       " GNU General Public License for more details.\n",
       "\n",
       " You should have received a copy of the GNU General Public License along\n",
       " with this program; if not, write to the Free Software Foundation, Inc.,\n",
       " 51 Franklin Street, Fifth Floor, Boston, MA 02110-1301 USA.\n",
       "\n",
       "*/\n",
       "\n",
       ":root {\n",
       "  --sherpa-border-color: var(--jp-border-color2, #e0e0e0);\n",
       "  --sherpa-background-color: var(--jp-layout-color0, white);\n",
       "  --sherpa-background-color-row-even: var(--jp-layout-color1, white);\n",
       "  --sherpa-background-color-row-odd: var(--jp-layout-color2, #eeeeee);\n",
       "\n",
       "  /* https://medium.com/ge-design/iot-cool-gray-is-a-great-background-color-for-data-visualization-ebf18c318418 */\n",
       "  --sherpa-background-color-dark1: #EBEFF2;\n",
       "  --sherpa-background-color-dark2: #D8E0E5;\n",
       "}\n",
       "\n",
       "div.sherpa-text-fallback {\n",
       "    display: none;\n",
       "}\n",
       "\n",
       "div.sherpa {\n",
       "    display: block;\n",
       "}\n",
       "\n",
       "div.sherpa details summary {\n",
       "    display: list-item;  /* needed for notebook, not lab */\n",
       "    font-size: larger;\n",
       "}\n",
       "\n",
       "div.sherpa details div.datavals {\n",
       "    display: grid;\n",
       "    grid-template-columns: 1fr 3fr;\n",
       "    column-gap: 0.5em;\n",
       "}\n",
       "\n",
       "div.sherpa div.dataname {\n",
       "    font-weight: bold;\n",
       "    border-right: 1px solid var(--sherpa-border-color);\n",
       "}\n",
       "\n",
       "div.sherpa div.dataval { }\n",
       "\n",
       "div.sherpa div.datavals div:nth-child(4n + 1) ,\n",
       "div.sherpa div.datavals div:nth-child(4n + 2) {\n",
       "    background: var(--sherpa-background-color-row-odd);\n",
       "}\n",
       "\n",
       "div.sherpa table.model tbody {\n",
       "    border-bottom: 1px solid var(--sherpa-border-color);\n",
       "}\n",
       "\n",
       "div.sherpa table.model tr.block {\n",
       "    border-top: 1px solid var(--sherpa-border-color);\n",
       "}\n",
       "\n",
       "div.sherpa table.model th.model-odd ,\n",
       "div.sherpa table.model th.model-even {\n",
       "    border-right: 1px solid var(--sherpa-border-color);\n",
       "}\n",
       "\n",
       "div.sherpa table.model th.model-odd {\n",
       "    background: var(--sherpa-background-color-dark1);\n",
       "}\n",
       "\n",
       "div.sherpa table.model th.model-even {\n",
       "    background: var(--sherpa-background-color-dark2);\n",
       "}\n",
       "\n",
       "div.sherpa .failed {\n",
       "    background: orange;\n",
       "    font-size: large;\n",
       "    padding: 1em;\n",
       "}\n",
       "</style><div class=\"sherpa-text-fallback\">&lt;XSbcoolflow model instance &#x27;coolflow&#x27;&gt;</div><div hidden class=\"sherpa\"><details open><summary>Model</summary><table class=\"model\"><caption>Expression: coolflow</caption><thead><tr><th>Component</th><th>Parameter</th><th>Thawed</th><th>Value</th><th>Min</th><th>Max</th><th>Units</th></tr></thead><tbody><tr><th class=\"model-odd\" scope=\"rowgroup\" rowspan=7>coolflow</th><td>lowT</td><td><input disabled type=\"checkbox\" checked></input></td><td>0.1</td><td>0.0808</td><td>79.9</td><td>keV</td></tr><tr><td>highT</td><td><input disabled type=\"checkbox\" checked></input></td><td>4.0</td><td>0.0808</td><td>79.9</td><td>keV</td></tr><tr><td>Abundanc</td><td><input disabled type=\"checkbox\" checked></input></td><td>1.0</td><td>0.0</td><td>5.0</td><td></td></tr><tr><td>Redshift</td><td><input disabled type=\"checkbox\"></input></td><td>0.1</td><td>-0.999</td><td>10.0</td><td></td></tr><tr><td>Velocity</td><td><input disabled type=\"checkbox\"></input></td><td>0.0</td><td>0.0</td><td>10000.0</td><td>km/s</td></tr><tr><td>switch</td><td><input disabled type=\"checkbox\"></input></td><td>2.0</td><td>0.0</td><td>3.0</td><td></td></tr><tr><td>norm</td><td><input disabled type=\"checkbox\" checked></input></td><td>1.0</td><td>0.0</td><td>1e+24</td><td></td></tr></tbody></table></details></div>"
      ],
      "text/plain": [
       "<XSbcoolflow model instance 'coolflow'>"
      ]
     },
     "execution_count": 4,
     "metadata": {},
     "output_type": "execute_result"
    }
   ],
   "source": [
    "coolflow = xspec.XSbcoolflow(\"coolflow\")"
   ]
  },
  {
   "cell_type": "code",
   "execution_count": 5,
   "metadata": {},
   "outputs": [],
   "source": [
    "# Change some numbers so that there is something to fit later\n",
    "coolflow.lowT = 0.23\n",
    "coolflow.highT = 3.45\n",
    "coolflow.Abundanc = 0.3\n",
    "coolflow.norm = 12.34\n",
    "\n",
    "\n",
    "ui.set_source(3, coolflow)"
   ]
  },
  {
   "cell_type": "code",
   "execution_count": 6,
   "metadata": {},
   "outputs": [
    {
     "name": "stdout",
     "output_type": "stream",
     "text": [
      "Reading APEC data from 3.0.9\n",
      "\n",
      "dataset 3: 0.0073:14.9504 -> 0.292:7.008 Energy (keV)\n",
      "dataset 3: 0.292:7.008 Energy (keV) (unchanged)\n"
     ]
    }
   ],
   "source": [
    "ui.fake_pha(\n",
    "    3,\n",
    "    \"../curated-test-data/Chandra/ACIS/acisf04487_001N022_r0009_arf3.fits\",\n",
    "    \"../curated-test-data/Chandra/ACIS/acisf04487_001N022_r0009_rmf3.fits\",\n",
    "    2e4,\n",
    ")\n",
    "ui.notice_id(3, 0.3, 7)\n",
    "ui.group_counts(3, 5)"
   ]
  },
  {
   "cell_type": "code",
   "execution_count": 8,
   "metadata": {},
   "outputs": [
    {
     "data": {
      "image/png": "[encoded data removed]",
      "text/plain": [
       "<Figure size 640x480 with 1 Axes>"
      ]
     },
     "metadata": {},
     "output_type": "display_data"
    }
   ],
   "source": [
    "ui.plot_data(3, xlog=True, ylog=True)"
   ]
  },
  {
   "cell_type": "code",
   "execution_count": 9,
   "metadata": {},
   "outputs": [],
   "source": [
    "from sherpa.models.basic import Scale1D\n",
    "\n",
    "coolflow2 = xspec.XSbcoolflow(\"coolflow2\")\n",
    "coolflow2.norm.freeze()\n",
    "scale2 = Scale1D(\"scale2\")\n",
    "scale2._use_caching = False  # see below\n",
    "model2 = scale2 * coolflow2\n",
    "\n",
    "coolflow3 = xspec.XSbcoolflow(\"coolflow3\")"
   ]
  },
  {
   "cell_type": "code",
   "execution_count": null,
   "metadata": {},
   "outputs": [
    {
     "name": "stdout",
     "output_type": "stream",
     "text": [
      "WARNING: data set 3 has associated backgrounds, but they have not been subtracted, nor have background models been set\n",
      "Dataset               = 3\n",
      "Method                = levmar\n",
      "Statistic             = chi2gehrels\n",
      "Initial fit statistic = 438.374\n",
      "Final fit statistic   = 39.9601 at function evaluation 199\n",
      "Data points           = 101\n",
      "Degrees of freedom    = 97\n",
      "Probability [Q-value] = 1\n",
      "Reduced statistic     = 0.41196\n",
      "Change in statistic   = 398.414\n",
      "   scale2.c0      14.9689      +/- 4.55393     \n",
      "   coolflow2.lowT   0.294771     +/- 0.292456    \n",
      "   coolflow2.highT   2.75903      +/- 0.546765    \n",
      "   coolflow2.Abundanc   0.15704      +/- 0.0885668   \n",
      "53.619376457994804 seconds\n"
     ]
    }
   ],
   "source": [
    "ui.set_source(3, model2)\n",
    "\n",
    "start_time2 = time.perf_counter()\n",
    "ui.fit(3)\n",
    "end_time2 = time.perf_counter()\n",
    "print(end_time2 - start_time2, \"seconds\")\n"
   ]
  },
  {
   "cell_type": "code",
   "execution_count": 11,
   "metadata": {},
   "outputs": [
    {
     "name": "stdout",
     "output_type": "stream",
     "text": [
      "WARNING: data set 3 has associated backgrounds, but they have not been subtracted, nor have background models been set\n",
      "Dataset               = 3\n",
      "Method                = levmar\n",
      "Statistic             = chi2gehrels\n",
      "Initial fit statistic = 438.374\n",
      "Final fit statistic   = 39.9601 at function evaluation 208\n",
      "Data points           = 101\n",
      "Degrees of freedom    = 97\n",
      "Probability [Q-value] = 1\n",
      "Reduced statistic     = 0.41196\n",
      "Change in statistic   = 398.414\n",
      "   coolflow3.lowT   0.294754     +/- 0.298478    \n",
      "   coolflow3.highT   2.75887      +/- 0.549834    \n",
      "   coolflow3.Abundanc   0.157026     +/- 0.0893689   \n",
      "   coolflow3.norm   14.9704      +/- 4.59341     \n",
      "61.2401770830038 seconds\n"
     ]
    }
   ],
   "source": [
    "ui.set_source(3, coolflow3)\n",
    "\n",
    "start_time = time.perf_counter()\n",
    "ui.fit(3)\n",
    "end_time = time.perf_counter()\n",
    "print(end_time - start_time, \"seconds\")\n"
   ]
  },
  {
   "cell_type": "code",
   "execution_count": 12,
   "metadata": {},
   "outputs": [
    {
     "data": {
      "image/png": "[encoded data removed]",
      "text/plain": [
       "<Figure size 640x480 with 1 Axes>"
      ]
     },
     "metadata": {},
     "output_type": "display_data"
    }
   ],
   "source": [
    "ui.set_source(3, coolflow3)\n",
    "ui.plot_fit(3, xlog=True, ylog=True)\n",
    "ui.set_source(3, model2)\n",
    "ui.plot_fit(3, overplot=True)"
   ]
  },
  {
   "cell_type": "code",
   "execution_count": 14,
   "metadata": {},
   "outputs": [
    {
     "data": {
      "text/plain": [
       "({'hits': 40, 'misses': 163, 'check': 204},\n",
       " {'hits': 4, 'misses': 208, 'check': 213})"
      ]
     },
     "execution_count": 14,
     "metadata": {},
     "output_type": "execute_result"
    }
   ],
   "source": [
    "coolflow2._cache_ctr, coolflow3._cache_ctr"
   ]
  },
  {
   "cell_type": "code",
   "execution_count": 20,
   "metadata": {},
   "outputs": [
    {
     "name": "stdout",
     "output_type": "stream",
     "text": [
      "Runtime per step: 0.27, 0.29\n",
      "Runtime per cooling flow cache hit: 0.33, 0.29\n"
     ]
    }
   ],
   "source": [
    "print(f'Runtime per step: {53.6 / 199:.2f}, {61.2 / 208:.2f}')\n",
    "print(f\"Runtime per cooling flow cache hit: {53.6 / 163:.2f}, {61.2 / 208:.2f}\")"
   ]
  },
  {
   "cell_type": "markdown",
   "metadata": {},
   "source": [
    "While I could get the runtime and the number of fev from Python, I've simple written down the numbers form one particular run in the print statements in the cell above. \n",
    "\n",
    "We can see three things:\n",
    "- The `scale*coolingflow` model converges in fewer steps than the `coolingflow` models alone. I've seen even more extreme cases of that, sometimes the coolingflow model along doesn't even find the right minimum; in all cases I've tried either the `scale*coolingflow` model is better or equal to the alternative, similar to the `scale*apec` vs. `apec` model higher up in this notebook. I suspect that the scale alone has a higher numerical precision than passing the norm to XSPEC and back and that that helps the optimizer in some way.\n",
    "- Per function evaluation, the `scale*coolingflow` model is faster by about 8%, because the XSPEC model is not called as often due to hitting the cache.\n",
    "- Per XSPEC call (=cache miss) the `scale*coolingflow` is about 12% slower, because the model is more complex (it's a `BinaryOpModel` of two components.) This penalty will go away if we implement a special treatment of the norm in the coolingflow model itself, so we can expect that the true speed up will better than 8%."
   ]
  },
  {
   "cell_type": "markdown",
   "metadata": {},
   "source": [
    "### Aside: Caching `Scale1D`\n",
    "\n",
    "In the code above, we set `scale2._use_caching=False`. Why? Because in earlier experiments I found that there is a significant time loss from caching this seemingly simple function. Here, we just want to fit a scalar scale factor. There is nothing faster then just multiplying with a scalar. However, in the internal hirachy of models `Scale1D` derives from `Const1D` and has a special effected if the `integrate` setting is set to true (which is hopefully isn't because that would mess up the fit). `Scale1D` inherits the cache setting from `Const1D` and now needs to calculate the hash for every call, if it's a \"hit\" or not, slowing down the model by about a factor of 6 as we can see below. While it's not dominating the overall fit, it's noticable in the run-time for a model where I use the scale to replace the norm."
   ]
  },
  {
   "cell_type": "code",
   "execution_count": null,
   "metadata": {},
   "outputs": [
    {
     "name": "stdout",
     "output_type": "stream",
     "text": [
      "29.7 μs ± 205 ns per loop (mean ± std. dev. of 7 runs, 10,000 loops each)\n",
      "5.67 μs ± 50.2 ns per loop (mean ± std. dev. of 7 runs, 100,000 loops each)\n"
     ]
    }
   ],
   "source": [
    "from sherpa.models.basic import Scale1D\n",
    "newscale = Scale1D(\"newscale\")\n",
    "%timeit newscale(xlo=np.arange(1000), xhi=np.arange(1000) + 1)\n",
    "newscale._use_caching = False\n",
    "%timeit newscale(xlo=np.arange(1000), xhi=np.arange(1000) + 1)"
   ]
  },
  {
   "cell_type": "code",
   "execution_count": null,
   "metadata": {},
   "outputs": [],
   "source": []
  }
 ],
 "metadata": {
  "kernelspec": {
   "display_name": "sherpaciao",
   "language": "python",
   "name": "python3"
  },
  "language_info": {
   "codemirror_mode": {
    "name": "ipython",
    "version": 3
   },
   "file_extension": ".py",
   "mimetype": "text/x-python",
   "name": "python",
   "nbconvert_exporter": "python",
   "pygments_lexer": "ipython3",
   "version": "3.11.9"
  }
 },
 "nbformat": 4,
 "nbformat_minor": 2
}
