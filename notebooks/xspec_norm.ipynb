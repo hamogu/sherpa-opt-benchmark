{
 "cells": [
  {
   "cell_type": "markdown",
   "metadata": {},
   "source": [
    "# Proof or concept for speed-up by treating the norm of an XSPEC model specially\n",
    "\n"
   ]
  },
  {
   "cell_type": "code",
   "execution_count": 1,
   "metadata": {},
   "outputs": [],
   "source": [
    "from sherpa.astro import ui\n",
    "from sherpa.astro.xspec import XSapec, XSphabs\n",
    "from io import StringIO\n",
    "import time\n",
    "import matplotlib.pyplot as plt\n",
    "import numpy as np\n",
    "from astropy.table import Table"
   ]
  },
  {
   "cell_type": "code",
   "execution_count": 2,
   "metadata": {},
   "outputs": [
    {
     "data": {
      "text/plain": [
       "'12.14.0k'"
      ]
     },
     "execution_count": 2,
     "metadata": {},
     "output_type": "execute_result"
    }
   ],
   "source": [
    "from sherpa.astro import xspec\n",
    "xspec.get_xsversion()"
   ]
  },
  {
   "cell_type": "markdown",
   "metadata": {},
   "source": [
    "## XSPEC internal cache"
   ]
  },
  {
   "cell_type": "code",
   "execution_count": 3,
   "metadata": {},
   "outputs": [
    {
     "name": "stderr",
     "output_type": "stream",
     "text": [
      "/Users/guenther/code/sherpa/sherpa/astro/xspec/__init__.py:1465: FutureWarning: calc() requires pars,lo,hi arguments, sent 2 arguments\n",
      "  warnings.warn(emsg, FutureWarning)\n"
     ]
    },
    {
     "name": "stdout",
     "output_type": "stream",
     "text": [
      "Reading APEC data from 3.0.9\n",
      "\n",
      "Time taken: 0.27 s\n",
      "Time taken: 0.02 s\n",
      "Time taken: 0.02 s\n",
      "Time taken: 0.02 s\n",
      "Time taken: 0.02 s\n"
     ]
    }
   ],
   "source": [
    "en_bins = np.arange(0.2, 10., 0.01)\n",
    "for i in range(5):\n",
    "    apecmodel = XSapec()\n",
    "    start_time = time.perf_counter()\n",
    "    flux = apecmodel(xlo=en_bins[:-1], xhi=en_bins[1:])\n",
    "    end_time = time.perf_counter()\n",
    "    print(f\"Time taken: {end_time-start_time:.2f} s\")"
   ]
  },
  {
   "cell_type": "markdown",
   "metadata": {},
   "source": [
    "As we can see, just running a model with the same input parameters several times is slow the first time and then much faster after that, even though we create a new model object every time. That means that the caching is internal to XSPEC itself, as the Sherpa cache is initialized every time we create a new model object."
   ]
  },
  {
   "cell_type": "code",
   "execution_count": 4,
   "metadata": {},
   "outputs": [
    {
     "name": "stdout",
     "output_type": "stream",
     "text": [
      "Time taken: 0.08 s\n",
      "Time taken: 0.01 s\n",
      "Time taken: 0.01 s\n",
      "Time taken: 0.01 s\n",
      "Time taken: 0.01 s\n"
     ]
    }
   ],
   "source": [
    "for i in range(5):\n",
    "    apecmodel = XSapec()\n",
    "    apecmodel.kT = 3.45\n",
    "    start_time = time.perf_counter()\n",
    "    flux = apecmodel(xlo=en_bins[:-1], xhi=en_bins[1:])\n",
    "    end_time = time.perf_counter()\n",
    "    print(f\"Time taken: {end_time - start_time:.2f} s\")\n"
   ]
  },
  {
   "cell_type": "markdown",
   "metadata": {},
   "source": [
    "If we change the model parameters, then the cache needs to be filled again, so the first call takes longer than the latter ones."
   ]
  },
  {
   "cell_type": "code",
   "execution_count": 5,
   "metadata": {},
   "outputs": [
    {
     "name": "stdout",
     "output_type": "stream",
     "text": [
      "Time taken: 0.02 s\n"
     ]
    }
   ],
   "source": [
    "apecmodel = XSapec()\n",
    "start_time = time.perf_counter()\n",
    "flux = apecmodel(xlo=en_bins[:-1], xhi=en_bins[1:])\n",
    "end_time = time.perf_counter()\n",
    "print(f\"Time taken: {end_time - start_time:.2f} s\")"
   ]
  },
  {
   "cell_type": "code",
   "execution_count": 6,
   "metadata": {},
   "outputs": [
    {
     "name": "stdout",
     "output_type": "stream",
     "text": [
      "Time taken: 0.02 s\n",
      "Time taken: 0.02 s\n",
      "Time taken: 0.02 s\n",
      "Time taken: 0.07 s\n",
      "Time taken: 0.02 s\n"
     ]
    }
   ],
   "source": [
    "for i in range(5):\n",
    "    apecmodel = XSapec()\n",
    "    apecmodel.norm = 1/(i + 1)\n",
    "    start_time = time.perf_counter()\n",
    "    flux = apecmodel(xlo=en_bins[:-1], xhi=en_bins[1:])\n",
    "    end_time = time.perf_counter()\n",
    "    print(f\"Time taken: {end_time - start_time:.2f} s\")\n"
   ]
  },
  {
   "cell_type": "markdown",
   "metadata": {},
   "source": [
    "In this experiment, we see that there is only a very small change in run-time for setting a new norm. Although the norm is different in every call, the run-time is almost the same. Curiously, it's not exactly the same, but it also is not as long in the case when physical parameters like the temperature are changed.\n",
    "\n",
    "I don't know how many values XSPEC keeps in its internal cache (and I don't want to try that out here), but if we go back to a previously used parameter value, the result is still fast. I did a cursory glance that the XSPEC docs and can't find anything there, but it's possible that this is already implemented as part of APEC, which XSPEC just ingests.\n",
    "\n",
    "### Considering the internal cache for the following benchmarks\n",
    "\n",
    "That leads to two conclusions:\n",
    "\n",
    "- When we benchmark run-times using similar datasets, the second run will always be faster unless we totally nuke XSPEC and restart the notebook.\n",
    "- If we want to be even faster, we need to find a way to call XSPEC less overall. Sherpa's caching on top pf XSPEC's own caching might have a very limited effect for APEC models.\n"
   ]
  },
  {
   "cell_type": "markdown",
   "metadata": {},
   "source": [
    "## Fits with real data"
   ]
  },
  {
   "cell_type": "code",
   "execution_count": 3,
   "metadata": {},
   "outputs": [
    {
     "name": "stdout",
     "output_type": "stream",
     "text": [
      "read ARF file ../curated-test-data/Chandra/ACIS/acisf04487_001N022_r0009_arf3.fits\n"
     ]
    },
    {
     "name": "stdout",
     "output_type": "stream",
     "text": [
      "read RMF file ../curated-test-data/Chandra/ACIS/acisf04487_001N022_r0009_rmf3.fits\n",
      "read background file ../curated-test-data/Chandra/ACIS/acisf04487_001N023_r0009_pha3.fits\n",
      "read ARF file ../curated-test-data/Chandra/ACIS/acisf04487_001N022_r0009_arf3.fits\n",
      "read RMF file ../curated-test-data/Chandra/ACIS/acisf04487_001N022_r0009_rmf3.fits\n",
      "read background file ../curated-test-data/Chandra/ACIS/acisf04487_001N023_r0009_pha3.fits\n"
     ]
    }
   ],
   "source": [
    "ui.load_pha(\n",
    "    1, \"../curated-test-data/Chandra/ACIS/acisf04487_001N023_r0009_pha3.fits.gz\"\n",
    ")\n",
    "ui.load_pha(\n",
    "    2, \"../curated-test-data/Chandra/ACIS/acisf04487_001N023_r0009_pha3.fits.gz\"\n",
    ")"
   ]
  },
  {
   "cell_type": "code",
   "execution_count": 4,
   "metadata": {},
   "outputs": [
    {
     "name": "stdout",
     "output_type": "stream",
     "text": [
      "dataset 1: 0.0073:14.9504 Energy (keV) (unchanged)\n",
      "dataset 2: 0.0073:14.9504 Energy (keV) (unchanged)\n",
      "dataset 1: 0.0073:14.9504 -> 0.5256:14.9504 Energy (keV)\n",
      "dataset 2: 0.0073:14.9504 -> 0.5256:14.9504 Energy (keV)\n",
      "dataset 1: 0.5256:14.9504 -> 0.5256:6.4678 Energy (keV)\n",
      "dataset 2: 0.5256:14.9504 -> 0.5256:6.4678 Energy (keV)\n"
     ]
    }
   ],
   "source": [
    "ui.group_counts(1, 5)\n",
    "ui.group_counts(2, 5)\n",
    "ui.ignore(None, 0.3)\n",
    "ui.ignore(7, None)\n"
   ]
  },
  {
   "cell_type": "markdown",
   "metadata": {},
   "source": [
    "### Setup of the first model, using standard XSPEC models\n",
    "\n",
    "We are fitting two apec models with different temperatures and different absorption components. We set the starting values of the parameters to reasonable number such that the fit converges after a reasonable number of iterations."
   ]
  },
  {
   "cell_type": "code",
   "execution_count": 5,
   "metadata": {},
   "outputs": [],
   "source": [
    "abs1 = XSphabs(\"abs1\")\n",
    "abs2 = XSphabs(\"abs2\")\n",
    "apec1 = XSapec(\"apec1\")\n",
    "apec2 = XSapec(\"apec2\")\n",
    "model = abs1 * apec1 + abs2 * apec2\n"
   ]
  },
  {
   "cell_type": "code",
   "execution_count": 6,
   "metadata": {},
   "outputs": [],
   "source": [
    "ui.set_source(1, model)\n",
    "\n",
    "abs1.nH = 0.1\n",
    "abs2.nH = 1\n",
    "apec1.kT = 0.5\n",
    "apec2.kT = 5\n",
    "apec1.norm = 1e-2\n",
    "apec2.norm = 1e-2\n",
    "\n"
   ]
  },
  {
   "cell_type": "code",
   "execution_count": 7,
   "metadata": {},
   "outputs": [
    {
     "name": "stdout",
     "output_type": "stream",
     "text": [
      "WARNING: data set 1 has associated backgrounds, but they have not been subtracted, nor have background models been set\n",
      "Reading APEC data from 3.0.9\n",
      "\n",
      "Dataset               = 1\n",
      "Method                = levmar\n",
      "Statistic             = chi2gehrels\n",
      "Initial fit statistic = 1.16757e+08\n",
      "Final fit statistic   = 23.1913 at function evaluation 117\n",
      "Data points           = 66\n",
      "Degrees of freedom    = 60\n",
      "Probability [Q-value] = 0.999995\n",
      "Reduced statistic     = 0.386522\n",
      "Change in statistic   = 1.16757e+08\n",
      "   abs1.nH        0.708404     +/- 0.170232    \n",
      "   apec1.kT       0.211462     +/- 0.0483091   \n",
      "   apec1.norm     0.000324427  +/- 0.000440131 \n",
      "   abs2.nH        2.54979      +/- 0.785303    \n",
      "   apec2.kT       2.12737      +/- 0.613379    \n",
      "   apec2.norm     0.000190664  +/- 7.07233e-05 \n",
      "2.5476826670055743 seconds\n"
     ]
    }
   ],
   "source": [
    "out = StringIO()\n",
    "\n",
    "start_time = time.perf_counter()\n",
    "ui.fit(1, outfile=out)\n",
    "end_time = time.perf_counter()\n",
    "print(end_time - start_time, \"seconds\")\n",
    "txt = out.getvalue()\n"
   ]
  },
  {
   "cell_type": "code",
   "execution_count": 12,
   "metadata": {},
   "outputs": [
    {
     "name": "stdout",
     "output_type": "stream",
     "text": [
      "WARNING: data set 1 has associated backgrounds, but they have not been subtracted, nor have background models been set\n",
      "Dataset               = 1\n",
      "Method                = levmar\n",
      "Statistic             = chi2gehrels\n",
      "Initial fit statistic = 23.1913\n",
      "Final fit statistic   = 23.1913 at function evaluation 8\n",
      "Data points           = 66\n",
      "Degrees of freedom    = 60\n",
      "Probability [Q-value] = 0.999995\n",
      "Reduced statistic     = 0.386522\n",
      "Change in statistic   = 2.35533e-08\n",
      "   abs1.nH        0.708377     +/- 0.170219    \n",
      "   apec1.kT       0.211472     +/- 0.0483013   \n",
      "   apec1.norm     0.000324343  +/- 0.000440291 \n",
      "   abs2.nH        2.54977      +/- 0.785373    \n",
      "   apec2.kT       2.12738      +/- 0.613325    \n",
      "   apec2.norm     0.000190663  +/- 7.07136e-05 \n",
      "0.13990775001002476 seconds\n"
     ]
    }
   ],
   "source": [
    "out = StringIO()\n",
    "\n",
    "start_time = time.perf_counter()\n",
    "ui.fit(1, outfile=out)\n",
    "end_time = time.perf_counter()\n",
    "print(end_time - start_time, \"seconds\")\n",
    "txt = out.getvalue()\n"
   ]
  },
  {
   "cell_type": "code",
   "execution_count": 13,
   "metadata": {},
   "outputs": [
    {
     "name": "stdout",
     "output_type": "stream",
     "text": [
      "WARNING: data set 1 has associated backgrounds, but they have not been subtracted, nor have background models been set\n",
      "Dataset               = 1\n",
      "Method                = levmar\n",
      "Statistic             = chi2gehrels\n",
      "Initial fit statistic = 23.1913\n",
      "Final fit statistic   = 23.1913 at function evaluation 15\n",
      "Data points           = 66\n",
      "Degrees of freedom    = 60\n",
      "Probability [Q-value] = 0.999995\n",
      "Reduced statistic     = 0.386522\n",
      "Change in statistic   = 1.99573e-06\n",
      "   abs1.nH        0.708311     +/- 0.170308    \n",
      "   apec1.kT       0.211481     +/- 0.0483164   \n",
      "   apec1.norm     0.000324206  +/- 0.000440041 \n",
      "   abs2.nH        2.54952      +/- 0.785375    \n",
      "   apec2.kT       2.12751      +/- 0.613428    \n",
      "   apec2.norm     0.000190644  +/- 7.07152e-05 \n",
      " \n",
      "*** Profile stats marshalled to file 'output1.prof'.\n"
     ]
    }
   ],
   "source": [
    "%prun -q -D output1.prof ui.fit(1)\n"
   ]
  },
  {
   "cell_type": "code",
   "execution_count": 8,
   "metadata": {},
   "outputs": [],
   "source": [
    "tab = Table.read(txt, format=\"ascii.commented_header\")"
   ]
  },
  {
   "cell_type": "markdown",
   "metadata": {},
   "source": [
    "### Freeze the norm in the vapec components\n",
    "\n",
    "We use exactly the same model setup, except that we freeze the norm in the vapec components and instead use a Sherpa `Scale1D` model to model the norm. That way, the apec should not be recalculated if just the norm is changed.\n",
    "Of course, the fitter might choose a different order to vary the parameters, but this is the most accurate way we have to compare the performance.\n",
    "\n",
    "We again set the starting values of the parameters to the same values as in the previous model."
   ]
  },
  {
   "cell_type": "code",
   "execution_count": 9,
   "metadata": {},
   "outputs": [],
   "source": [
    "from sherpa.models.basic import Scale1D\n",
    "\n",
    "abs21 = XSphabs(\"abs21\")\n",
    "abs22 = XSphabs(\"abs22\")\n",
    "const21 = Scale1D(\"const1\")\n",
    "const22 = Scale1D(\"const2\")\n",
    "apec21 = XSapec(\"apec21\")\n",
    "apec22 = XSapec(\"apec22\")\n",
    "model2 = abs21 * const21 * apec21 + abs22 * const22 * apec22\n"
   ]
  },
  {
   "cell_type": "code",
   "execution_count": 10,
   "metadata": {},
   "outputs": [],
   "source": [
    "ui.set_source(2, model2)\n",
    "\n",
    "abs21.nH = 0.1\n",
    "abs22.nH = 1\n",
    "apec21.kT = 0.5\n",
    "apec22.kT = 5\n",
    "apec21.norm = 1\n",
    "apec22.norm = 1\n",
    "apec21.norm.freeze()\n",
    "apec22.norm.freeze()\n",
    "const21.c0 = 0.01\n",
    "const22.c0 = 0.01\n"
   ]
  },
  {
   "cell_type": "code",
   "execution_count": 11,
   "metadata": {},
   "outputs": [
    {
     "name": "stdout",
     "output_type": "stream",
     "text": [
      "WARNING: data set 2 has associated backgrounds, but they have not been subtracted, nor have background models been set\n",
      "Dataset               = 2\n",
      "Method                = levmar\n",
      "Statistic             = chi2gehrels\n",
      "Initial fit statistic = 1.16757e+08\n",
      "Final fit statistic   = 23.1913 at function evaluation 103\n",
      "Data points           = 66\n",
      "Degrees of freedom    = 60\n",
      "Probability [Q-value] = 0.999995\n",
      "Reduced statistic     = 0.386522\n",
      "Change in statistic   = 1.16757e+08\n",
      "   abs21.nH       0.708365     +/- 0.17028     \n",
      "   const1.c0      0.000324383  +/- 0.000439932 \n",
      "   apec21.kT      0.211461     +/- 0.0483555   \n",
      "   abs22.nH       2.54963      +/- 0.785542    \n",
      "   const2.c0      0.000190653  +/- 7.07243e-05 \n",
      "   apec22.kT      2.12744      +/- 0.613513    \n",
      "0.7318235409911722 seconds\n"
     ]
    }
   ],
   "source": [
    "\n",
    "\n",
    "out = StringIO()\n",
    "\n",
    "start_time2 = time.perf_counter()\n",
    "ui.fit(2, outfile=out)\n",
    "end_time2 = time.perf_counter()\n",
    "print(end_time2 - start_time2, \"seconds\")\n",
    "txt = out.getvalue()\n"
   ]
  },
  {
   "cell_type": "code",
   "execution_count": 18,
   "metadata": {},
   "outputs": [
    {
     "name": "stdout",
     "output_type": "stream",
     "text": [
      "WARNING: data set 2 has associated backgrounds, but they have not been subtracted, nor have background models been set\n",
      "Dataset               = 2\n",
      "Method                = levmar\n",
      "Statistic             = chi2gehrels\n",
      "Initial fit statistic = 23.1913\n",
      "Final fit statistic   = 23.1913 at function evaluation 8\n",
      "Data points           = 66\n",
      "Degrees of freedom    = 60\n",
      "Probability [Q-value] = 0.999995\n",
      "Reduced statistic     = 0.386522\n",
      "Change in statistic   = 3.70588e-07\n",
      "   abs21.nH       0.708289     +/- 0.17023     \n",
      "   const1.c0      0.000324157  +/- 0.000440171 \n",
      "   apec21.kT      0.211485     +/- 0.0482879   \n",
      "   abs22.nH       2.54953      +/- 0.785473    \n",
      "   const2.c0      0.000190645  +/- 7.07167e-05 \n",
      "   apec22.kT      2.1275       +/- 0.613396    \n",
      " \n",
      "*** Profile stats marshalled to file 'output2.prof'.\n"
     ]
    }
   ],
   "source": [
    "%prun -q -D output2.prof ui.fit(2)\n"
   ]
  },
  {
   "cell_type": "code",
   "execution_count": 12,
   "metadata": {},
   "outputs": [],
   "source": [
    "tab2 = Table.read(txt, format=\"ascii.commented_header\")\n"
   ]
  },
  {
   "cell_type": "markdown",
   "metadata": {},
   "source": [
    "### Comparing the different fits\n",
    "\n",
    "Looking at the output above, we can see that the fit results are virtually identical, except that in the second run the `Scale1D` models take the role of the normalizations.\n",
    "\n",
    "Comparison of fitted values"
   ]
  },
  {
   "cell_type": "code",
   "execution_count": 20,
   "metadata": {},
   "outputs": [
    {
     "data": {
      "text/html": [
       "<style>/*\n",
       "Copyright (C) 2020  Smithsonian Astrophysical Observatory\n",
       "\n",
       "\n",
       " This program is free software; you can redistribute it and/or modify\n",
       " it under the terms of the GNU General Public License as published by\n",
       " the Free Software Foundation; either version 3 of the License, or\n",
       " (at your option) any later version.\n",
       "\n",
       " This program is distributed in the hope that it will be useful,\n",
       " but WITHOUT ANY WARRANTY; without even the implied warranty of\n",
       " MERCHANTABILITY or FITNESS FOR A PARTICULAR PURPOSE.  See the\n",
       " GNU General Public License for more details.\n",
       "\n",
       " You should have received a copy of the GNU General Public License along\n",
       " with this program; if not, write to the Free Software Foundation, Inc.,\n",
       " 51 Franklin Street, Fifth Floor, Boston, MA 02110-1301 USA.\n",
       "\n",
       "*/\n",
       "\n",
       ":root {\n",
       "  --sherpa-border-color: var(--jp-border-color2, #e0e0e0);\n",
       "  --sherpa-background-color: var(--jp-layout-color0, white);\n",
       "  --sherpa-background-color-row-even: var(--jp-layout-color1, white);\n",
       "  --sherpa-background-color-row-odd: var(--jp-layout-color2, #eeeeee);\n",
       "\n",
       "  /* https://medium.com/ge-design/iot-cool-gray-is-a-great-background-color-for-data-visualization-ebf18c318418 */\n",
       "  --sherpa-background-color-dark1: #EBEFF2;\n",
       "  --sherpa-background-color-dark2: #D8E0E5;\n",
       "}\n",
       "\n",
       "div.sherpa-text-fallback {\n",
       "    display: none;\n",
       "}\n",
       "\n",
       "div.sherpa {\n",
       "    display: block;\n",
       "}\n",
       "\n",
       "div.sherpa details summary {\n",
       "    display: list-item;  /* needed for notebook, not lab */\n",
       "    font-size: larger;\n",
       "}\n",
       "\n",
       "div.sherpa details div.datavals {\n",
       "    display: grid;\n",
       "    grid-template-columns: 1fr 3fr;\n",
       "    column-gap: 0.5em;\n",
       "}\n",
       "\n",
       "div.sherpa div.dataname {\n",
       "    font-weight: bold;\n",
       "    border-right: 1px solid var(--sherpa-border-color);\n",
       "}\n",
       "\n",
       "div.sherpa div.dataval { }\n",
       "\n",
       "div.sherpa div.datavals div:nth-child(4n + 1) ,\n",
       "div.sherpa div.datavals div:nth-child(4n + 2) {\n",
       "    background: var(--sherpa-background-color-row-odd);\n",
       "}\n",
       "\n",
       "div.sherpa table.model tbody {\n",
       "    border-bottom: 1px solid var(--sherpa-border-color);\n",
       "}\n",
       "\n",
       "div.sherpa table.model tr.block {\n",
       "    border-top: 1px solid var(--sherpa-border-color);\n",
       "}\n",
       "\n",
       "div.sherpa table.model th.model-odd ,\n",
       "div.sherpa table.model th.model-even {\n",
       "    border-right: 1px solid var(--sherpa-border-color);\n",
       "}\n",
       "\n",
       "div.sherpa table.model th.model-odd {\n",
       "    background: var(--sherpa-background-color-dark1);\n",
       "}\n",
       "\n",
       "div.sherpa table.model th.model-even {\n",
       "    background: var(--sherpa-background-color-dark2);\n",
       "}\n",
       "\n",
       "div.sherpa .failed {\n",
       "    background: orange;\n",
       "    font-size: large;\n",
       "    padding: 1em;\n",
       "}\n",
       "</style><div class=\"sherpa-text-fallback\">&lt;RSPModelPHA model instance &#x27;apply_rmf(apply_arf(29715.734470358 * (abs1 * apec1 + abs2 * apec2)))&#x27;&gt;</div><div hidden class=\"sherpa\"><details open><summary>Model</summary><table class=\"model\"><caption>Expression: apply_rmf(apply_arf(29715.734470358 * (abs1 * apec1 + abs2 * apec2)))</caption><thead><tr><th>Component</th><th>Parameter</th><th>Thawed</th><th>Value</th><th>Min</th><th>Max</th><th>Units</th></tr></thead><tbody><tr><th class=\"model-odd\" scope=\"rowgroup\" rowspan=1>abs1</th><td>nH</td><td><input disabled type=\"checkbox\" checked></input></td><td>0.7083108103752704</td><td>0.0</td><td>1000000.0</td><td>10^22 atoms / cm^2</td></tr><tr class=\"block\"><th class=\"model-even\" scope=\"rowgroup\" rowspan=4>apec1</th><td>kT</td><td><input disabled type=\"checkbox\" checked></input></td><td>0.21148123040391778</td><td>0.008</td><td>64.0</td><td>keV</td></tr><tr><td>Abundanc</td><td><input disabled type=\"checkbox\"></input></td><td>1.0</td><td>0.0</td><td>5.0</td><td></td></tr><tr><td>Redshift</td><td><input disabled type=\"checkbox\"></input></td><td>0.0</td><td>-0.999</td><td>10.0</td><td></td></tr><tr><td>norm</td><td><input disabled type=\"checkbox\" checked></input></td><td>0.0003242061816446599</td><td>0.0</td><td>1e+24</td><td></td></tr><tr class=\"block\"><th class=\"model-odd\" scope=\"rowgroup\" rowspan=1>abs2</th><td>nH</td><td><input disabled type=\"checkbox\" checked></input></td><td>2.549520884043411</td><td>0.0</td><td>1000000.0</td><td>10^22 atoms / cm^2</td></tr><tr class=\"block\"><th class=\"model-even\" scope=\"rowgroup\" rowspan=4>apec2</th><td>kT</td><td><input disabled type=\"checkbox\" checked></input></td><td>2.127511107669363</td><td>0.008</td><td>64.0</td><td>keV</td></tr><tr><td>Abundanc</td><td><input disabled type=\"checkbox\"></input></td><td>1.0</td><td>0.0</td><td>5.0</td><td></td></tr><tr><td>Redshift</td><td><input disabled type=\"checkbox\"></input></td><td>0.0</td><td>-0.999</td><td>10.0</td><td></td></tr><tr><td>norm</td><td><input disabled type=\"checkbox\" checked></input></td><td>0.0001906438171953562</td><td>0.0</td><td>1e+24</td><td></td></tr></tbody></table></details></div>"
      ],
      "text/plain": [
       "<RSPModelPHA model instance 'apply_rmf(apply_arf(29715.734470358 * (abs1 * apec1 + abs2 * apec2)))'>"
      ]
     },
     "execution_count": 20,
     "metadata": {},
     "output_type": "execute_result"
    }
   ],
   "source": [
    "ui.get_model(1)"
   ]
  },
  {
   "cell_type": "code",
   "execution_count": 21,
   "metadata": {},
   "outputs": [
    {
     "data": {
      "text/html": [
       "<style>/*\n",
       "Copyright (C) 2020  Smithsonian Astrophysical Observatory\n",
       "\n",
       "\n",
       " This program is free software; you can redistribute it and/or modify\n",
       " it under the terms of the GNU General Public License as published by\n",
       " the Free Software Foundation; either version 3 of the License, or\n",
       " (at your option) any later version.\n",
       "\n",
       " This program is distributed in the hope that it will be useful,\n",
       " but WITHOUT ANY WARRANTY; without even the implied warranty of\n",
       " MERCHANTABILITY or FITNESS FOR A PARTICULAR PURPOSE.  See the\n",
       " GNU General Public License for more details.\n",
       "\n",
       " You should have received a copy of the GNU General Public License along\n",
       " with this program; if not, write to the Free Software Foundation, Inc.,\n",
       " 51 Franklin Street, Fifth Floor, Boston, MA 02110-1301 USA.\n",
       "\n",
       "*/\n",
       "\n",
       ":root {\n",
       "  --sherpa-border-color: var(--jp-border-color2, #e0e0e0);\n",
       "  --sherpa-background-color: var(--jp-layout-color0, white);\n",
       "  --sherpa-background-color-row-even: var(--jp-layout-color1, white);\n",
       "  --sherpa-background-color-row-odd: var(--jp-layout-color2, #eeeeee);\n",
       "\n",
       "  /* https://medium.com/ge-design/iot-cool-gray-is-a-great-background-color-for-data-visualization-ebf18c318418 */\n",
       "  --sherpa-background-color-dark1: #EBEFF2;\n",
       "  --sherpa-background-color-dark2: #D8E0E5;\n",
       "}\n",
       "\n",
       "div.sherpa-text-fallback {\n",
       "    display: none;\n",
       "}\n",
       "\n",
       "div.sherpa {\n",
       "    display: block;\n",
       "}\n",
       "\n",
       "div.sherpa details summary {\n",
       "    display: list-item;  /* needed for notebook, not lab */\n",
       "    font-size: larger;\n",
       "}\n",
       "\n",
       "div.sherpa details div.datavals {\n",
       "    display: grid;\n",
       "    grid-template-columns: 1fr 3fr;\n",
       "    column-gap: 0.5em;\n",
       "}\n",
       "\n",
       "div.sherpa div.dataname {\n",
       "    font-weight: bold;\n",
       "    border-right: 1px solid var(--sherpa-border-color);\n",
       "}\n",
       "\n",
       "div.sherpa div.dataval { }\n",
       "\n",
       "div.sherpa div.datavals div:nth-child(4n + 1) ,\n",
       "div.sherpa div.datavals div:nth-child(4n + 2) {\n",
       "    background: var(--sherpa-background-color-row-odd);\n",
       "}\n",
       "\n",
       "div.sherpa table.model tbody {\n",
       "    border-bottom: 1px solid var(--sherpa-border-color);\n",
       "}\n",
       "\n",
       "div.sherpa table.model tr.block {\n",
       "    border-top: 1px solid var(--sherpa-border-color);\n",
       "}\n",
       "\n",
       "div.sherpa table.model th.model-odd ,\n",
       "div.sherpa table.model th.model-even {\n",
       "    border-right: 1px solid var(--sherpa-border-color);\n",
       "}\n",
       "\n",
       "div.sherpa table.model th.model-odd {\n",
       "    background: var(--sherpa-background-color-dark1);\n",
       "}\n",
       "\n",
       "div.sherpa table.model th.model-even {\n",
       "    background: var(--sherpa-background-color-dark2);\n",
       "}\n",
       "\n",
       "div.sherpa .failed {\n",
       "    background: orange;\n",
       "    font-size: large;\n",
       "    padding: 1em;\n",
       "}\n",
       "</style><div class=\"sherpa-text-fallback\">&lt;RSPModelPHA model instance &#x27;apply_rmf(apply_arf(29715.734470358 * (abs21 * const1 * apec21 + abs22 * const2 * apec22)))&#x27;&gt;</div><div hidden class=\"sherpa\"><details open><summary>Model</summary><table class=\"model\"><caption>Expression: apply_rmf(apply_arf(29715.734470358 * (abs21 * const1 * apec21 + abs22 * const2 * apec22)))</caption><thead><tr><th>Component</th><th>Parameter</th><th>Thawed</th><th>Value</th><th>Min</th><th>Max</th><th>Units</th></tr></thead><tbody><tr><th class=\"model-odd\" scope=\"rowgroup\" rowspan=1>abs21</th><td>nH</td><td><input disabled type=\"checkbox\" checked></input></td><td>0.7082891495274662</td><td>0.0</td><td>1000000.0</td><td>10^22 atoms / cm^2</td></tr><tr class=\"block\"><th class=\"model-even\" scope=\"rowgroup\" rowspan=1>const1</th><td>c0</td><td><input disabled type=\"checkbox\" checked></input></td><td>0.00032415749648098235</td><td>-MAX</td><td>MAX</td><td></td></tr><tr class=\"block\"><th class=\"model-odd\" scope=\"rowgroup\" rowspan=4>apec21</th><td>kT</td><td><input disabled type=\"checkbox\" checked></input></td><td>0.21148542251693148</td><td>0.008</td><td>64.0</td><td>keV</td></tr><tr><td>Abundanc</td><td><input disabled type=\"checkbox\"></input></td><td>1.0</td><td>0.0</td><td>5.0</td><td></td></tr><tr><td>Redshift</td><td><input disabled type=\"checkbox\"></input></td><td>0.0</td><td>-0.999</td><td>10.0</td><td></td></tr><tr><td>norm</td><td><input disabled type=\"checkbox\"></input></td><td>1.0</td><td>0.0</td><td>1e+24</td><td></td></tr><tr class=\"block\"><th class=\"model-even\" scope=\"rowgroup\" rowspan=1>abs22</th><td>nH</td><td><input disabled type=\"checkbox\" checked></input></td><td>2.5495318901852473</td><td>0.0</td><td>1000000.0</td><td>10^22 atoms / cm^2</td></tr><tr class=\"block\"><th class=\"model-odd\" scope=\"rowgroup\" rowspan=1>const2</th><td>c0</td><td><input disabled type=\"checkbox\" checked></input></td><td>0.0001906454947873881</td><td>-MAX</td><td>MAX</td><td></td></tr><tr class=\"block\"><th class=\"model-even\" scope=\"rowgroup\" rowspan=4>apec22</th><td>kT</td><td><input disabled type=\"checkbox\" checked></input></td><td>2.1274957641009338</td><td>0.008</td><td>64.0</td><td>keV</td></tr><tr><td>Abundanc</td><td><input disabled type=\"checkbox\"></input></td><td>1.0</td><td>0.0</td><td>5.0</td><td></td></tr><tr><td>Redshift</td><td><input disabled type=\"checkbox\"></input></td><td>0.0</td><td>-0.999</td><td>10.0</td><td></td></tr><tr><td>norm</td><td><input disabled type=\"checkbox\"></input></td><td>1.0</td><td>0.0</td><td>1e+24</td><td></td></tr></tbody></table></details></div>"
      ],
      "text/plain": [
       "<RSPModelPHA model instance 'apply_rmf(apply_arf(29715.734470358 * (abs21 * const1 * apec21 + abs22 * const2 * apec22)))'>"
      ]
     },
     "execution_count": 21,
     "metadata": {},
     "output_type": "execute_result"
    }
   ],
   "source": [
    "ui.get_model(2)"
   ]
  },
  {
   "cell_type": "code",
   "execution_count": 22,
   "metadata": {},
   "outputs": [
    {
     "name": "stdout",
     "output_type": "stream",
     "text": [
      "Run time comparison:\n",
      "Model 1 (direct apec): 0.14 seconds\n",
      "Model 2 (const * apec): 0.73 seconds\n"
     ]
    }
   ],
   "source": [
    "print(\"Run time comparison:\")\n",
    "print(f\"Model 1 (direct apec): {end_time - start_time:.2f} seconds\")\n",
    "print(f\"Model 2 (const * apec): {end_time2 - start_time2:.2f} seconds\")"
   ]
  },
  {
   "cell_type": "markdown",
   "metadata": {},
   "source": [
    "So, the fit values are almost identical, but the speed-up for this particular model by 30%. The setup of this fit is physically motivated and is very close to the model used in the relevant publication. The spectrum is from DG Tau which shows two components - a hot and highly absorbed star and a stellar jet with about 300 km/s the pierces through the intervening material and thus has a much lower absorption component.\n",
    "\n",
    "Of course, the speed-up will depend on the model and the data, and might be less in this example if there are more parameters to be fit. Yet, I want to stress that this is to a custom-made, simulated dataset, but simply a star from the Chandra archive, repeating the fit with a setup very similar to the relevant publication. \n",
    "\n",
    "In the next few plot, I want to look a bit and get a feeling for why this approach is so effective."
   ]
  },
  {
   "cell_type": "code",
   "execution_count": 13,
   "metadata": {},
   "outputs": [
    {
     "data": {
      "image/png": "[encoded data removed]",
      "text/plain": [
       "<Figure size 1200x400 with 3 Axes>"
      ]
     },
     "metadata": {},
     "output_type": "display_data"
    }
   ],
   "source": [
    "fig, axes = plt.subplots(1, 3, figsize=(12, 4))\n",
    "axes[0].plot(tab[\"apec1.norm\"], label=\"apec1 (model 1)\")\n",
    "axes[0].plot(tab[\"apec2.norm\"], label=\"apec2 (model 1)\")\n",
    "axes[0].plot(tab2[\"const1.c0\"], label=\"const1 (model 2)\")\n",
    "axes[0].plot(tab2[\"const2.c0\"], label=\"const2 (model 2)\")\n",
    "axes[0].set_yscale(\"log\")\n",
    "axes[0].set_title(\"Normalization\")\n",
    "axes[0].legend()\n",
    "\n",
    "axes[1].plot(tab[\"apec1.kT\"])\n",
    "axes[1].plot(tab[\"apec2.kT\"])\n",
    "axes[1].plot(tab2[\"apec21.kT\"])\n",
    "axes[1].plot(tab2[\"apec22.kT\"])\n",
    "axes[1].set_title(\"Temperature\")\n",
    "\n",
    "axes[2].plot(tab[\"abs1.nH\"])\n",
    "axes[2].plot(tab[\"abs2.nH\"])\n",
    "axes[2].plot(tab2[\"abs21.nH\"])\n",
    "axes[2].plot(tab2[\"abs22.nH\"])\n",
    "axes[2].set_title(\"Absorption\")\n",
    "\n",
    "for ax in axes:\n",
    "    ax.set_xlabel(\"Iteration\")"
   ]
  },
  {
   "cell_type": "markdown",
   "metadata": {},
   "source": [
    "The plots above show the evolution of the parameters over the iterations of the fit. Since the use the same data, the same optimizer, and the same starting value it is not surprising that the steps are very similar, pratically falling on top of each other; the equivalent lines for the two plots are blue/green and orange/red and indeed it is difficult to spot the difference. That means that out timing comparison is meaningful - the second fit is faster because each step is evaluated faster, not because the optimizer found a shortcut somewhere.\n",
    "\n",
    "For this specific model and optimizer, we can see that the git typically changes one of the values (sometimes by very small amounts such as 1e-5, which are not visible in the plot) and then keeps is constant while changing a different value. Looking in particular at the apec models (left and middle panel), the caching of model values takes care of the situation where the apec is called with exactly identical parameters and only one or both of the nH values are changed. In this case, the apec is not recalculated and the value is simply retrieved from the model cache, which is a very fast operation. However, in the fit 1 (blue/orange) the apec model is recalculated every time either the norm or the temperature is changed; in fit 2, the norm of the apec is frozen and its role taken by the `Scale1D` model, which is a much faster operation. Now, *only* changes in the temperature trigger a new apec calculation, which is a much less frequent event leading to the speed-up."
   ]
  },
  {
   "cell_type": "code",
   "execution_count": 24,
   "metadata": {},
   "outputs": [
    {
     "name": "stdout",
     "output_type": "stream",
     "text": [
      " apec1                      size:    5  hits:    12  misses:     7  check:    19\n",
      " apec2                      size:    5  hits:    12  misses:     7  check:    19\n",
      " apec21                     size:    5  hits:     9  misses:     3  check:    12\n",
      " apec22                     size:    5  hits:     9  misses:     3  check:    12\n",
      " const1                     size:    5  hits:     9  misses:     3  check:    12\n",
      " const2                     size:    5  hits:     9  misses:     3  check:    12\n"
     ]
    }
   ],
   "source": [
    "# The output of the cache_status method is suspect and might not be accurate\n",
    "# Despite the reported size, this really acts as a size=1 cache in this run due to a known bug in caching:\n",
    "# see https://github.com/sherpa/sherpa/pull/2166\n",
    "\n",
    "for m in [apec1, apec2, apec21, apec22, const21, const22]:\n",
    "    m.cache_status()"
   ]
  },
  {
   "cell_type": "markdown",
   "metadata": {},
   "source": [
    "## Getting results\n",
    "\n",
    "Because of the internal XSPEC cache, I can't just run the notebook to bottom, whatever model is run first will take longer. Thus, instead, I restart and just run the cells that I need and write down the run-time manually to make a fair comparison.\n",
    "\n",
    "I try four scenarios and get the runtimes below. I've redone every scenario a number of times and the timing is stable; also the fits results are virtual indistinguishable (typically agree to 5 digits or so).\n",
    "\n",
    "- Model 1, first fit after starting sherpa: 2.5 to 2.7 seconds, 117 function evaluations\n",
    "- Model 2, first fit after starting sherpa: 2.3 seconds, 103 function evaluations\n",
    "- Model 1, last of several runs (so the APEC internal cache is filled, but creating new model objects in Sherpa and resetting starting values every time): 1.0 seconds, 117 function evaluations\n",
    "- Model 2, last of several runs (so the APEC internal cache is filled, but creating new model objects in Sherpa and resetting starting values every time): 0.7 seconds, 103 function evaluations\n",
    "\n",
    "\n",
    "\n",
    "## Conclusion\n",
    "\n",
    "Model 1 needs 117/103 =1.136 as many evaluations, and it takes 2.6/2.3 =1.13 times as long (in a cold start), so we can conclude that there is no benefit to special case the the norm for XSPEC APEC class models. (But, looking at detailed timing using cPython's profiler, it also doesn't hurt that much - the biggest impact is running md5 to calculate the hash for the modelCacher1D which needs about 1% of the runtime.)"
   ]
  },
  {
   "cell_type": "markdown",
   "metadata": {},
   "source": []
  }
 ],
 "metadata": {
  "kernelspec": {
   "display_name": "sherpaciao",
   "language": "python",
   "name": "python3"
  },
  "language_info": {
   "codemirror_mode": {
    "name": "ipython",
    "version": 3
   },
   "file_extension": ".py",
   "mimetype": "text/x-python",
   "name": "python",
   "nbconvert_exporter": "python",
   "pygments_lexer": "ipython3",
   "version": "3.11.9"
  }
 },
 "nbformat": 4,
 "nbformat_minor": 2
}
